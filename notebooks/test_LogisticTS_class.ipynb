{
 "cells": [
  {
   "cell_type": "code",
   "execution_count": 1,
   "metadata": {},
   "outputs": [],
   "source": [
    "import numpy as np"
   ]
  },
  {
   "cell_type": "code",
   "execution_count": 2,
   "metadata": {},
   "outputs": [],
   "source": [
    "# error display\n",
    "def error_display(linucb_set, true_set):\n",
    "    return \"different. linucb setting : {0}, true settings : {1}\".format(linucb_set, true_set)"
   ]
  },
  {
   "cell_type": "code",
   "execution_count": 3,
   "metadata": {},
   "outputs": [],
   "source": [
    "# 既存のクラスにインスタンスメソッドを追加する関数\n",
    "def add_instance_method(Class, method):\n",
    "    aetattr(Class, method.__name__, method)"
   ]
  },
  {
   "cell_type": "code",
   "execution_count": 123,
   "metadata": {},
   "outputs": [],
   "source": [
    "# LogisticTSアルゴリズムのクラス\n",
    "class LogisticTS:\n",
    "    # コンストラクタ\n",
    "    # ハイパーパラメータなどを設定する\n",
    "    # num_theta_max_iter theta の探索を行う反復回数の上限\n",
    "    # epsilon theta の探索を行う際の収束許容誤差\n",
    "    # interval_update_theta thetaの更新を行う間隔. この回数だけ反復したら theta, hessian を更新する\n",
    "    def __init__(self, sigma_0=0.1, num_theta_max_iter=1000, epsilon=0.01, interval_update_theta=20):\n",
    "        self.sigma_0 = sigma_0\n",
    "        self.num_theta_max_iter = num_theta_max_iter\n",
    "        self.epsilon = epsilon\n",
    "        self.interval_update_theta = interval_update_theta\n",
    "        \n",
    "    # 初期化関数\n",
    "    # 入力：\n",
    "    # n_arms     引ける腕の数\n",
    "    # n_features 文脈の次元数\n",
    "    # sigma      誤差項の分散\n",
    "    def initialize(self, n_arms, n_features, sigma):\n",
    "        self.n_arms = n_arms\n",
    "        self.n_features = n_features\n",
    "        self.sigma  = sigma\n",
    "        self.theta  = np.zeros(n_features)\n",
    "        \n",
    "        # 現在の反復回数\n",
    "        self.iter_num = 0\n",
    "        \n",
    "        # 引いた腕のcontextリスト\n",
    "        self.lst_context_history = []\n",
    "        # 引いた腕による報酬のリスト\n",
    "        self.lst_reward_history = []\n",
    "        \n",
    "        # 乱数生成に必要なヘシアンの逆行列\n",
    "        self.H_inv = self.calc_hessian_inv(self.theta)\n",
    "        \n",
    "        return\n",
    "        \n",
    "    # 負の対数事後確率の勾配 G の計算\n",
    "    # 計算式は『バンディット問題の理論とアルゴリズム』参照\n",
    "    def calc_gradient(self, theta):\n",
    "        # 初期値\n",
    "        ret = []\n",
    "        ret.append(theta / self.sigma_0)\n",
    "        \n",
    "        # 以下、引いた腕によって変わる\n",
    "        for context in self.lst_context_history:\n",
    "            exp_theta_T_context = np.exp(theta.dot(context))\n",
    "            ret.append((exp_theta_T_context*context)/(1 + exp_theta_T_context))\n",
    "            \n",
    "        for idx, reward in enumerate(self.lst_reward_history):\n",
    "            if reward == 1:\n",
    "                ret.append(self.lst_context_history[idx] * -1)\n",
    "                \n",
    "        return np.array(ret).sum(axis=0)\n",
    "    \n",
    "    # 負の対数事後確率のヘシアン H の逆行列の計算\n",
    "    # 計算式は『バンディット問題の理論とアルゴリズム』参照\n",
    "    def calc_hessian_inv(self, theta):\n",
    "        ret = []\n",
    "        ret.append(np.identity(self.n_features)/self.sigma_0)\n",
    "\n",
    "        for context in self.lst_context_history:\n",
    "            exp_theta_T_context = np.exp(theta.dot(context))\n",
    "            ret.append((exp_theta_T_context*(np.matrix(context).T)*context)/(1+exp_theta_T_context)**2)\n",
    "\n",
    "        return np.linalg.inv(np.array(ret).sum(axis=0))\n",
    "        \n",
    "    # theta の係数格納\n",
    "    def set_theta(self, theta):\n",
    "        self.theta = theta\n",
    "        return\n",
    "        \n",
    "    # 多変量正規分布からパラメータを作成\n",
    "    def get_theta_by_normalDistribution(self):\n",
    "        theta_tild = np.random.multivariate_normal(\n",
    "            self.theta,\n",
    "            self.H_inv\n",
    "        )\n",
    "        \n",
    "        return theta_tild\n",
    "    \n",
    "    # 腕を選択\n",
    "    def select_arm(self, context):\n",
    "        np_context = np.array(context)\n",
    "        theta_tild = self.get_theta_by_normalDistribution()\n",
    "        \n",
    "        score = context.dot(theta_tild)\n",
    "        return np.argmax(score)\n",
    "        \n",
    "    # 得られた報酬のリストに追加\n",
    "    def add_reward(self, reward):\n",
    "        self.lst_reward_history.append(reward)\n",
    "        return\n",
    "        \n",
    "    # 選択した腕のcontextをリストに追加\n",
    "    def add_context(self, context):\n",
    "        self.lst_context_history.append(context)\n",
    "        return\n",
    "    \n",
    "    # 観測した報酬からtheta更新\n",
    "    def update_theta(self):\n",
    "        # 設定した更新間隔に達していなければ、更新しない\n",
    "        if self.iter_num % self.interval_update_theta != 0:\n",
    "            return\n",
    "        \n",
    "        # thetaが収束するか規定回数を反復するまで計算する\n",
    "        theta_hat = self.theta\n",
    "        for i in range(self.num_theta_max_iter):\n",
    "            theta_before = theta_hat\n",
    "            G = self.calc_gradient(theta_hat)\n",
    "            H_inv = self.calc_hessian_inv(theta_hat)\n",
    "            \n",
    "            theta_hat = theta_hat - H_inv.dot(G)\n",
    "            \n",
    "            # 収束したら終了\n",
    "            ## 収束しなかったらthetaを更新して再計算\n",
    "            if np.linalg.norm(theta_hat - theta_before) < self.epsilon:\n",
    "                break\n",
    "        # 収束したら更新\n",
    "        self.set_theta(theta_hat)\n",
    "        \n",
    "        return "
   ]
  },
  {
   "cell_type": "code",
   "execution_count": 124,
   "metadata": {},
   "outputs": [],
   "source": [
    "# コンストラクタのテスト\n",
    "def test_LogisticTS_init():\n",
    "    sigma_0 = 0.2\n",
    "    num_theta_max_iter=100\n",
    "    epsilon=0.1\n",
    "    interval_update_theta=10\n",
    "    \n",
    "    model = LogisticTS(sigma_0, num_theta_max_iter, epsilon, interval_update_theta)\n",
    "    \n",
    "    # your settings\n",
    "    assert model.sigma_0 == sigma_0, \"sigma_0 \" + error_display(model.sigma_0, sigma_0)\n",
    "    assert model.num_theta_max_iter == num_theta_max_iter, \"num_theta_max_iter \" + error_display(model.num_theta_max_iter, num_theta_max_iter)\n",
    "    assert model.epsilon == epsilon, \"epsilon \" + error_display(model.epsilon, epsilon)\n",
    "    assert model.interval_update_theta == interval_update_theta, \"interval_update_theta \" + error_display(model.interval_update_theta, interval_update_theta)\n",
    "    \n",
    "    return"
   ]
  },
  {
   "cell_type": "code",
   "execution_count": 125,
   "metadata": {},
   "outputs": [],
   "source": [
    "test_LogisticTS_init()"
   ]
  },
  {
   "cell_type": "code",
   "execution_count": 58,
   "metadata": {},
   "outputs": [],
   "source": [
    "# 初期化のテスト\n",
    "def test_LogisticTS_initialize():\n",
    "    lu = LogisticTS()\n",
    "    n_arms = 3\n",
    "    n_features = 4\n",
    "    sigma = 0.1\n",
    "    \n",
    "    lu.initialize(n_arms, n_features, sigma)\n",
    "    \n",
    "    # your settings\n",
    "    assert lu.n_arms == n_arms, \"n_arms \" + error_display(lu.n_arms, n_arms)\n",
    "    assert lu.n_features == n_features, \"n_features \" + error_display(lu.n_features, n_features)\n",
    "    assert lu.sigma == sigma, \"sigma \" + error_display(lu.sigma, sigma)\n",
    "    \n",
    "    # initialize\n",
    "    assert (lu.theta == np.zeros(n_features)).all(), \"theta different\"\n",
    "    assert (lu.H_inv == np.linalg.inv(np.identity(lu.n_features)/lu.sigma_0)).all(), \"H different\"\n",
    "    \n",
    "    # check size\n",
    "    assert lu.theta.shape[0] == n_features, \"theta size \" + error_display(lu.theta.shape[0], n_features)\n",
    "    \n",
    "    # theta はベクトルのはずなので2次元目が存在したらエラー\n",
    "    try:\n",
    "        lu.theta.shape[1]\n",
    "    except:\n",
    "        print(\"OK\")\n",
    "    else:\n",
    "        assert False, \"LinUCB.theta has column!\"\n",
    "        \n",
    "    \n",
    "    # すべてのテスト完了\n",
    "    print(\"Conglatulations!\")\n",
    "    return"
   ]
  },
  {
   "cell_type": "code",
   "execution_count": 59,
   "metadata": {},
   "outputs": [
    {
     "name": "stdout",
     "output_type": "stream",
     "text": [
      "OK\n",
      "Conglatulations!\n"
     ]
    }
   ],
   "source": [
    "test_LogisticTS_initialize()"
   ]
  },
  {
   "cell_type": "code",
   "execution_count": 60,
   "metadata": {},
   "outputs": [
    {
     "data": {
      "text/plain": [
       "array([[0.1, 0. ],\n",
       "       [0. , 0.1]])"
      ]
     },
     "execution_count": 60,
     "metadata": {},
     "output_type": "execute_result"
    }
   ],
   "source": [
    "model = LogisticTS()\n",
    "n_arms = 3\n",
    "n_features = 2\n",
    "sigma = 0.1\n",
    "model.initialize(n_arms, n_features, sigma)\n",
    "model.H_inv"
   ]
  },
  {
   "cell_type": "code",
   "execution_count": 61,
   "metadata": {},
   "outputs": [],
   "source": [
    "# get_theta_by_normalDistribution のテスト\n",
    "def test_LogisticTS_get_theta_by_normalDistribution():\n",
    "    # parameter settings\n",
    "    lu = LogisticTS()\n",
    "    n_arms = 3\n",
    "    n_features = 2\n",
    "    sigma = 0.1\n",
    "    lu.initialize(n_arms, n_features, sigma)\n",
    "    \n",
    "    theta_tild = lu.get_theta_by_normalDistribution()\n",
    "    \n",
    "    assert theta_tild.shape[0] == n_features, \"n_features \" + error_display(len(ucb_score), n_arms)\n",
    "    \n",
    "    print(theta_tild)\n",
    "    \n",
    "    # すべてのテスト完了\n",
    "    print(\"Conglatulations!\")\n",
    "    return"
   ]
  },
  {
   "cell_type": "code",
   "execution_count": 62,
   "metadata": {
    "scrolled": true
   },
   "outputs": [
    {
     "name": "stdout",
     "output_type": "stream",
     "text": [
      "[-0.03843923  0.41232332]\n",
      "Conglatulations!\n"
     ]
    }
   ],
   "source": [
    "test_LogisticTS_get_theta_by_normalDistribution()"
   ]
  },
  {
   "cell_type": "code",
   "execution_count": 84,
   "metadata": {},
   "outputs": [],
   "source": [
    "# 腕の選択に関するテスト\n",
    "def test_LogisticTS_select_arm():\n",
    "    # parameter settings\n",
    "    lu = LogisticTS()\n",
    "    n_arms = 3\n",
    "    n_features = 2\n",
    "    sigma = 0.1\n",
    "    lu.initialize(n_arms, n_features, sigma)\n",
    "    \n",
    "    theta_tild = lu.get_theta_by_normalDistribution()\n",
    "    \n",
    "    context = np.array([[1,2], [4,5], [7,8]])\n",
    "    selected_arm = lu.select_arm(context)\n",
    "    \n",
    "    print(selected_arm)\n",
    "    \n",
    "#     assert selected_arm == np.argmax(ucb_score), \"selected arm \" + error_display(selected_arm, np.argmax(ucb_score))"
   ]
  },
  {
   "cell_type": "code",
   "execution_count": 85,
   "metadata": {},
   "outputs": [
    {
     "name": "stdout",
     "output_type": "stream",
     "text": [
      "2\n"
     ]
    }
   ],
   "source": [
    "test_LogisticTS_select_arm()"
   ]
  },
  {
   "cell_type": "code",
   "execution_count": 104,
   "metadata": {},
   "outputs": [],
   "source": [
    "# add_reward に関するテスト\n",
    "def test_LogisticTS_add_reward():\n",
    "    # parameter settings\n",
    "    lu = LogisticTS()\n",
    "    n_arms = 3\n",
    "    n_features = 2\n",
    "    sigma = 0.1\n",
    "    lu.initialize(n_arms, n_features, sigma)\n",
    "    \n",
    "    theta_tild = lu.get_theta_by_normalDistribution()\n",
    "    \n",
    "    context = np.array([[1,2], [4,5], [7,8]])\n",
    "    selected_arm = lu.select_arm(context)\n",
    "    \n",
    "    reward_list = [1,2,3]\n",
    "    lu.add_reward(reward_list[selected_arm])\n",
    "    \n",
    "    print(selected_arm)\n",
    "    assert lu.lst_reward_history[0] == reward_list[selected_arm], \"reward_list \" + error_display(lu.lst_reward_history[0], reward_list[selected_arm])\n",
    "    assert len(lu.lst_reward_history) == 1, \"reward_list is too long. The length is {0}\".format(len(lu.lst_reward_history))"
   ]
  },
  {
   "cell_type": "code",
   "execution_count": 105,
   "metadata": {},
   "outputs": [
    {
     "name": "stdout",
     "output_type": "stream",
     "text": [
      "0\n"
     ]
    }
   ],
   "source": [
    "test_LogisticTS_add_reward()"
   ]
  },
  {
   "cell_type": "code",
   "execution_count": 112,
   "metadata": {},
   "outputs": [],
   "source": [
    "# add_context に関するテスト\n",
    "def test_LogisticTS_add_context():\n",
    "    # parameter settings\n",
    "    lu = LogisticTS()\n",
    "    n_arms = 3\n",
    "    n_features = 2\n",
    "    sigma = 0.1\n",
    "    lu.initialize(n_arms, n_features, sigma)\n",
    "    \n",
    "    theta_tild = lu.get_theta_by_normalDistribution()\n",
    "    \n",
    "    context = np.array([[1,2], [4,5], [7,8]])\n",
    "    selected_arm = lu.select_arm(context)\n",
    "    \n",
    "    lu.add_context(context[selected_arm])\n",
    "    context_history = lu.lst_context_history\n",
    "    \n",
    "    print(selected_arm)\n",
    "    assert (context_history[0] == context[selected_arm]).all(), \"context_history \" + error_display(lu.lst_reward_history[0], reward_list[selected_arm])\n",
    "    assert len(context_history) == 1, \"context_history is too long. The length is {0}\".format(len(context_history))"
   ]
  },
  {
   "cell_type": "code",
   "execution_count": 113,
   "metadata": {},
   "outputs": [
    {
     "name": "stdout",
     "output_type": "stream",
     "text": [
      "2\n"
     ]
    }
   ],
   "source": [
    "test_LogisticTS_add_context()"
   ]
  },
  {
   "cell_type": "code",
   "execution_count": 100,
   "metadata": {},
   "outputs": [],
   "source": [
    "# update_theta に関するテスト\n",
    "def test_LogisticTS_update_theta():\n",
    "    # parameter settings\n",
    "    lu = LogisticTS()\n",
    "    n_arms = 3\n",
    "    n_features = 2\n",
    "    sigma = 0.1\n",
    "    lu.initialize(n_arms, n_features, sigma)\n",
    "    \n",
    "    theta_tild = lu.get_theta_by_normalDistribution()\n",
    "    \n",
    "    context = np.array([[1,2], [4,5], [7,8]])\n",
    "    selected_arm = lu.select_arm(context)\n",
    "    \n",
    "    reward_list = [1,2,3]\n",
    "    lu.add_reward(reward_list[selected_arm])\n",
    "    lu.add_context(context[selected_arm])\n",
    "    \n",
    "    lu.update_theta()\n",
    "    \n",
    "    assert (lu.theta != np.zeros(n_features)).all(), \"theta is not changed.\"\n",
    "    print(lu.theta)"
   ]
  },
  {
   "cell_type": "code",
   "execution_count": 101,
   "metadata": {},
   "outputs": [
    {
     "name": "stdout",
     "output_type": "stream",
     "text": [
      "[-0.10644978 -0.12165689]\n"
     ]
    }
   ],
   "source": [
    "test_LogisticTS_update_theta()"
   ]
  },
  {
   "cell_type": "code",
   "execution_count": null,
   "metadata": {},
   "outputs": [],
   "source": []
  }
 ],
 "metadata": {
  "kernelspec": {
   "display_name": "Python 3",
   "language": "python",
   "name": "python3"
  },
  "language_info": {
   "codemirror_mode": {
    "name": "ipython",
    "version": 3
   },
   "file_extension": ".py",
   "mimetype": "text/x-python",
   "name": "python",
   "nbconvert_exporter": "python",
   "pygments_lexer": "ipython3",
   "version": "3.6.9"
  }
 },
 "nbformat": 4,
 "nbformat_minor": 4
}
