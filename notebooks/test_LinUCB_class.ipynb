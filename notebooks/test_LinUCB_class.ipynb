{
 "cells": [
  {
   "cell_type": "code",
   "execution_count": null,
   "metadata": {},
   "outputs": [],
   "source": [
    "import numpy as np"
   ]
  },
  {
   "cell_type": "code",
   "execution_count": 70,
   "metadata": {},
   "outputs": [],
   "source": [
    "# error display\n",
    "def error_display(linucb_set, true_set):\n",
    "    return \"different. linucb setting : {0}, true settings : {1}\".format(linucb_set, true_set)"
   ]
  },
  {
   "cell_type": "code",
   "execution_count": 76,
   "metadata": {},
   "outputs": [],
   "source": [
    "# 既存のクラスにインスタンスメソッドを追加する関数\n",
    "def add_instance_method(Class, method):\n",
    "    aetattr(Class, method.__name__, method)"
   ]
  },
  {
   "cell_type": "code",
   "execution_count": 158,
   "metadata": {},
   "outputs": [],
   "source": [
    "# LinUCBアルゴリズムのクラス\n",
    "class LinUCB:\n",
    "    def __init__(self, alpha=0.01, sigma_0=0.1):\n",
    "        self.alpha = alpha\n",
    "        self.sigma_0 = sigma_0\n",
    "        \n",
    "    # 初期化関数\n",
    "    # 入力：\n",
    "    # n_arms     引ける腕の数\n",
    "    # n_features 文脈の次元数\n",
    "    # sigma      誤差項の分散\n",
    "    def initialize(self, n_arms, n_features, sigma):\n",
    "        self.n_arms = n_arms\n",
    "        self.n_features = n_features\n",
    "        self.sigma  = sigma\n",
    "        self.A_inv  = self.sigma_0 / sigma * np.eye(n_features)\n",
    "        self.b      = np.zeros(n_features)\n",
    "        self.theta  = self.A_inv.dot(self.b)\n",
    "        \n",
    "    # theta の係数格納\n",
    "    def set_theta(theta):\n",
    "        self.theta = theta\n",
    "        \n",
    "    # iteration 回数のset関数\n",
    "    def set_iteration_number(self, t):\n",
    "        # t が0以下の値の場合、エラーを返す\n",
    "        assert t > 0, \"iteration number must be positive. t = {0}\".format(t)\n",
    "        \n",
    "        self.iter = t\n",
    "        \n",
    "    # context のset関数\n",
    "    def set_context(self, context):\n",
    "        self.context = np.array(context)\n",
    "        \n",
    "    # UCBスコアの計算\n",
    "    # 入力：\n",
    "    # t       反復回数\n",
    "    # context 入力する文脈. 属性情報とかそれまでの選択とか. n_arms * n_features の行列\n",
    "    def calc_UCBScore(self, t, context):\n",
    "        # iteration, context のセット\n",
    "        self.set_iteration_number(t)\n",
    "        self.set_context(context)\n",
    "        \n",
    "        alpha_t = self.alpha * np.sqrt(np.log(t))\n",
    "        \n",
    "        UCBScore = [0 for _ in range(self.n_arms)]\n",
    "        for idx, arm in enumerate(range(self.n_arms)):\n",
    "            # context を各armの場合に分ける\n",
    "            a_it = self.context[idx]\n",
    "            UCBScore[idx] = a_it.dot(self.theta) + alpha_t * self.sigma * a_it.T.dot(self.A_inv).dot(a_it)\n",
    "        \n",
    "        return UCBScore\n",
    "    \n",
    "    # 腕を選択\n",
    "    def select_arm(self, UCBScore):\n",
    "        return np.argmax(UCBScore)\n",
    "    \n",
    "    # 観測した報酬からパラメータ更新\n",
    "    # 入力\n",
    "    # selected_arm 選択した腕\n",
    "    # reward       得られた報酬\n",
    "    def update(self, selected_arm, reward):\n",
    "        # 視認性向上のため、context 情報を変数に格納しておく\n",
    "        a_it = self.context[selected_arm]\n",
    "        A_inv_a_it = self.A_inv.dot(a_it)\n",
    "        A_inv_a_it_a_it_T = self.A_inv.dot(a_it).dot(a_it.T)\n",
    "        \n",
    "        # パラメータ更新\n",
    "        self.A_inv = self.A_inv - np.dot(A_inv_a_it_a_it_T, self.A_inv) / 1+a_it.T.dot(A_inv_a_it)\n",
    "        self.b = self.b + a_it*reward"
   ]
  },
  {
   "cell_type": "code",
   "execution_count": 72,
   "metadata": {},
   "outputs": [],
   "source": [
    "def test_LinUCB_initialize():\n",
    "    lu = LinUCB()\n",
    "    n_arms = 3\n",
    "    n_features = 4\n",
    "    sigma = 0.1\n",
    "    \n",
    "    lu.initialize(n_arms, n_features, sigma)\n",
    "    \n",
    "    # your settings\n",
    "    assert lu.n_arms == n_arms, \"n_arms \" + error_display(lu.n_arms, n_arms)\n",
    "    assert lu.n_features == n_features, \"n_features \" + error_display(lu.n_features, n_features)\n",
    "    assert lu.sigma == sigma, \"sigma \" + error_display(lu.sigma, sigma)\n",
    "    \n",
    "    # initialize\n",
    "    assert (lu.A_inv == lu.sigma_0 / sigma * np.eye(n_features)).all(), \"A_inv different. \"\n",
    "    assert (lu.b == np.zeros(n_features)).all(), \"b different. \"\n",
    "    assert (lu.theta == lu.A_inv * lu.b).all(), \"theta different\"\n",
    "    \n",
    "    # check size\n",
    "    assert lu.A_inv.shape[0] == n_features, \"A_inv row size \" + error_display(lu.A_inv.shape[0], n_features)\n",
    "    assert lu.A_inv.shape[1] == n_features, \"A_inv column size \" + error_display(lu.A_inv.shape[1], n_features)\n",
    "    assert lu.b.shape[0] == n_features, \"b size \" + error_display(lu.b.shape[0], n_features)\n",
    "    assert lu.theta.shape[0] == n_features, \"theta size \" + error_display(lu.theta.shape[0], n_features)\n",
    "    \n",
    "    # theta はベクトルのはずなので2次元目が存在したらエラー\n",
    "    try:\n",
    "        lu.theta.shape[1]\n",
    "    except:\n",
    "        print(\"OK\")\n",
    "    else:\n",
    "        assert False, \"LinUCB.theta has column!\"\n",
    "        \n",
    "    \n",
    "    # すべてのテスト完了\n",
    "    print(\"Conglatulations!\")\n",
    "    return"
   ]
  },
  {
   "cell_type": "code",
   "execution_count": 73,
   "metadata": {},
   "outputs": [
    {
     "name": "stdout",
     "output_type": "stream",
     "text": [
      "OK\n",
      "Conglatulations!\n"
     ]
    }
   ],
   "source": [
    "test_LinUCB_initialize()"
   ]
  },
  {
   "cell_type": "code",
   "execution_count": 111,
   "metadata": {},
   "outputs": [],
   "source": [
    "# calc_UCBScore のテスト\n",
    "def test_LinUCB_calc_UCBScore():\n",
    "    # parameter settings\n",
    "    lu = LinUCB()\n",
    "    n_arms = 3\n",
    "    n_features = 2\n",
    "    sigma = 0.1\n",
    "    lu.initialize(n_arms, n_features, sigma)\n",
    "    \n",
    "    t = 2\n",
    "    context = np.array([[1,2], [4,5], [7,8]])\n",
    "    \n",
    "    ucb_score = lu.calc_UCBScore(t,context)\n",
    "    \n",
    "    assert len(ucb_score) == n_arms, \"n_arms \" + error_display(len(ucb_score), n_arms)\n",
    "    \n",
    "    print(ucb_score)\n",
    "    \n",
    "    # 反復回数が0以下だった時の例外処理\n",
    "    t_0 = 0\n",
    "    try:\n",
    "        lu.calc_UCBScore(t_0,context)\n",
    "    except:\n",
    "        print(\"OK\")\n",
    "    else:\n",
    "        assert False, \"0 divide exception denied.\"\n",
    "    \n",
    "    # すべてのテスト完了\n",
    "    print(\"Conglatulations!\")\n",
    "    return"
   ]
  },
  {
   "cell_type": "code",
   "execution_count": 112,
   "metadata": {
    "scrolled": true
   },
   "outputs": [
    {
     "name": "stdout",
     "output_type": "stream",
     "text": [
      "[0.004162773055788488, 0.034134739057465606, 0.09407867106081984]\n",
      "OK\n",
      "Conglatulations!\n"
     ]
    }
   ],
   "source": [
    "test_LinUCB_calc_UCBScore()"
   ]
  },
  {
   "cell_type": "code",
   "execution_count": 114,
   "metadata": {},
   "outputs": [],
   "source": [
    "# 腕の選択に関するテスト\n",
    "def test_LinUCB_select_arm():\n",
    "    # parameter settings\n",
    "    lu = LinUCB()\n",
    "    n_arms = 3\n",
    "    n_features = 2\n",
    "    sigma = 0.1\n",
    "    lu.initialize(n_arms, n_features, sigma)\n",
    "    t = 2\n",
    "    context = np.array([[1,2], [4,5], [7,8]])\n",
    "    ucb_score = lu.calc_UCBScore(t,context)\n",
    "    \n",
    "    selected_arm = lu.select_arm(ucb_score)\n",
    "    \n",
    "    assert selected_arm == np.argmax(ucb_score), \"selected arm \" + error_display(selected_arm, np.argmax(ucb_score))"
   ]
  },
  {
   "cell_type": "code",
   "execution_count": 115,
   "metadata": {},
   "outputs": [],
   "source": [
    "test_LinUCB_select_arm()"
   ]
  },
  {
   "cell_type": "code",
   "execution_count": 161,
   "metadata": {},
   "outputs": [],
   "source": [
    "# update に関するテスト\n",
    "def test_LinUCB_update():\n",
    "    # parameter settings\n",
    "    lu = LinUCB()\n",
    "    n_arms = 3\n",
    "    n_features = 2\n",
    "    sigma = 0.1\n",
    "    lu.initialize(n_arms, n_features, sigma)\n",
    "    t = 2\n",
    "    context = np.array([[1,2], [4,5], [7,8]])\n",
    "    ucb_score = lu.calc_UCBScore(t,context)\n",
    "    selected_arm = lu.select_arm(ucb_score)\n",
    "    \n",
    "    reward_list = [0.1, 0.4, 0.3]\n",
    "    reward = reward_list[selected_arm]\n",
    "    \n",
    "    lu.update(selected_arm, reward)\n",
    "    \n",
    "    assert lu.A_inv.shape[0] == n_features, \"A_inv size \" + error_display(lu.A_inv.shape[0], n_features)\n",
    "    assert lu.A_inv.shape[1] == n_features, \"A_inv size \" + error_display(lu.A_inv.shape[1], n_features)\n",
    "    assert lu.b.shape[0] == n_features, \"A_inv size \" + error_display(lu.b.shape[0], n_features)\n",
    "    \n",
    "    # b はベクトルのはずなので2次元目が存在したらエラー\n",
    "    try:\n",
    "        lu.b.shape[1]\n",
    "    except:\n",
    "        print(\"OK\")\n",
    "    else:\n",
    "        assert False, \"LinUCB.b has column!\""
   ]
  },
  {
   "cell_type": "code",
   "execution_count": 162,
   "metadata": {},
   "outputs": [
    {
     "name": "stdout",
     "output_type": "stream",
     "text": [
      "OK\n",
      "[[  1. 113.]\n",
      " [113.   1.]]\n"
     ]
    }
   ],
   "source": [
    "test_LinUCB_update()"
   ]
  },
  {
   "cell_type": "code",
   "execution_count": null,
   "metadata": {},
   "outputs": [],
   "source": []
  }
 ],
 "metadata": {
  "kernelspec": {
   "display_name": "Python3-Ph6",
   "language": "python",
   "name": "ph6"
  },
  "language_info": {
   "codemirror_mode": {
    "name": "ipython",
    "version": 3
   },
   "file_extension": ".py",
   "mimetype": "text/x-python",
   "name": "python",
   "nbconvert_exporter": "python",
   "pygments_lexer": "ipython3",
   "version": "3.6.8"
  }
 },
 "nbformat": 4,
 "nbformat_minor": 2
}
