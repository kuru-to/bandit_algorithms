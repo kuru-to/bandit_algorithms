{
 "cells": [
  {
   "cell_type": "markdown",
   "id": "third-brass",
   "metadata": {},
   "source": [
    "# DSN 発表用スクリプト\n",
    "3/15"
   ]
  },
  {
   "cell_type": "code",
   "execution_count": 1,
   "id": "joint-greece",
   "metadata": {},
   "outputs": [],
   "source": [
    "import os\n",
    "import sys"
   ]
  },
  {
   "cell_type": "code",
   "execution_count": 6,
   "id": "fancy-waters",
   "metadata": {},
   "outputs": [],
   "source": [
    "from matplotlib import pyplot as plt\n",
    "from tqdm import tqdm\n",
    "import pymc3 as pm"
   ]
  },
  {
   "cell_type": "code",
   "execution_count": 7,
   "id": "smoking-strap",
   "metadata": {},
   "outputs": [],
   "source": [
    "import numpy as np\n",
    "np.random.seed(0)"
   ]
  },
  {
   "cell_type": "code",
   "execution_count": 5,
   "id": "challenging-lewis",
   "metadata": {},
   "outputs": [],
   "source": [
    "path_fig = \"../figures/\""
   ]
  },
  {
   "cell_type": "markdown",
   "id": "australian-gnome",
   "metadata": {},
   "source": [
    "## バンディット問題を解くアルゴリズム"
   ]
  },
  {
   "cell_type": "markdown",
   "id": "ordered-message",
   "metadata": {},
   "source": [
    "### 環境の設定"
   ]
  },
  {
   "cell_type": "code",
   "execution_count": 41,
   "id": "altered-crack",
   "metadata": {},
   "outputs": [],
   "source": [
    "n_arms = 4"
   ]
  },
  {
   "cell_type": "code",
   "execution_count": 42,
   "id": "collectible-gregory",
   "metadata": {},
   "outputs": [],
   "source": [
    "class Env(object):\n",
    "    thetas = [0.1, 0.1, 0.2, 0.3]\n",
    "    \n",
    "    def react(arm):\n",
    "        return 1 if np.random.random() < Env.thetas[arm] else 0\n",
    "    \n",
    "    def opt():\n",
    "        return np.argmax(Env.thetas)"
   ]
  },
  {
   "cell_type": "markdown",
   "id": "clean-compromise",
   "metadata": {},
   "source": [
    "### $\\epsilon$ greedy"
   ]
  },
  {
   "cell_type": "code",
   "execution_count": 43,
   "id": "right-polymer",
   "metadata": {},
   "outputs": [],
   "source": [
    "class EpsilonGreedyAgent(object):\n",
    "    def __init__(self, epsilon=0.1):\n",
    "        self.epsilon = epsilon\n",
    "        self.counts = np.zeros(n_arms)\n",
    "        self.values = np.zeros(n_arms)\n",
    "        \n",
    "    def get_arm(self):\n",
    "        if np.random.random() < self.epsilon:\n",
    "            arm = np.random.randint(n_arms)\n",
    "        else:\n",
    "            arm = np.argmax(self.values)\n",
    "        return arm\n",
    "    \n",
    "    def sample(self, arm, reward):\n",
    "        self.counts[arm] += 1\n",
    "        self.values[arm] = (\n",
    "            (self.counts[arm]-1) * self.values[arm] + reward\n",
    "        ) / self.counts[arm]"
   ]
  },
  {
   "cell_type": "code",
   "execution_count": 44,
   "id": "dramatic-exhibit",
   "metadata": {},
   "outputs": [],
   "source": [
    "def sim(Agent, N=1000, T=1000, **kwargs):\n",
    "    selected_arm = [[0 for _ in range(T)] for _ in range(N)]\n",
    "    earned_rewards = [[0 for _ in range(T)] for _ in range(N)]\n",
    "    \n",
    "    for n in tqdm(range(N)):\n",
    "        agent = Agent(**kwargs)\n",
    "        for t in range(T):\n",
    "            arm = agent.get_arm()\n",
    "            reward = Env.react(arm)\n",
    "            agent.sample(arm, reward)\n",
    "            selected_arm[n][t] = arm\n",
    "            earned_rewards[n][t] = reward\n",
    "    return np.array(selected_arm), np.array(earned_rewards)"
   ]
  },
  {
   "cell_type": "code",
   "execution_count": 45,
   "id": "special-farmer",
   "metadata": {},
   "outputs": [
    {
     "name": "stderr",
     "output_type": "stream",
     "text": [
      "100%|█████████████████████████████████████████████████████████████████████████████| 1000/1000 [00:04<00:00, 207.08it/s]\n"
     ]
    }
   ],
   "source": [
    "arms_eg, rewards_eg = sim(EpsilonGreedyAgent)\n",
    "acc = np.mean(arms_eg == Env.opt(), axis=0)"
   ]
  },
  {
   "cell_type": "code",
   "execution_count": 46,
   "id": "recreational-motorcycle",
   "metadata": {},
   "outputs": [
    {
     "data": {
      "image/png": "[encoded data removed]",
      "text/plain": [
       "<Figure size 432x288 with 1 Axes>"
      ]
     },
     "metadata": {
      "needs_background": "light"
     },
     "output_type": "display_data"
    }
   ],
   "source": [
    "plt.tight_layout()\n",
    "plt.plot(acc)\n",
    "plt.xlabel(r'$t$')\n",
    "plt.ylabel(r'$\\mathbb{E}[x(t) = x^*]$')\n",
    "plt.savefig(path_fig + \"result_epsilon_greedy.png\", bbox_inches=\"tight\")\n",
    "plt.show()"
   ]
  },
  {
   "cell_type": "markdown",
   "id": "charming-valve",
   "metadata": {},
   "source": [
    "### Annealing $\\epsilon$ greedy"
   ]
  },
  {
   "cell_type": "code",
   "execution_count": 47,
   "id": "adaptive-generation",
   "metadata": {},
   "outputs": [],
   "source": [
    "class AnnealingEpsilonGreedyAgent(object):\n",
    "    def __init__(self, epsilon=1.0):\n",
    "        self.epsilon = epsilon\n",
    "        self.counts = np.zeros(n_arms)\n",
    "        self.values = np.zeros(n_arms)\n",
    "        \n",
    "    def get_arm(self):\n",
    "        if np.random.random() < self.epsilon:\n",
    "            arm = np.random.randint(n_arms)\n",
    "        else:\n",
    "            arm = np.argmax(self.values)\n",
    "        self.epsilon *= 0.99\n",
    "        return arm\n",
    "    \n",
    "    def sample(self, arm, reward):\n",
    "        self.counts[arm] += 1\n",
    "        self.values[arm] = (\n",
    "            (self.counts[arm]-1) * self.values[arm] + reward\n",
    "        ) / self.counts[arm]"
   ]
  },
  {
   "cell_type": "code",
   "execution_count": 48,
   "id": "professional-congress",
   "metadata": {},
   "outputs": [
    {
     "name": "stderr",
     "output_type": "stream",
     "text": [
      "100%|█████████████████████████████████████████████████████████████████████████████| 1000/1000 [00:04<00:00, 206.29it/s]\n"
     ]
    }
   ],
   "source": [
    "arms_aeg, rewards_aeg = sim(AnnealingEpsilonGreedyAgent)"
   ]
  },
  {
   "cell_type": "code",
   "execution_count": 49,
   "id": "nuclear-medicare",
   "metadata": {},
   "outputs": [
    {
     "data": {
      "image/png": "[encoded data removed]",
      "text/plain": [
       "<Figure size 432x288 with 1 Axes>"
      ]
     },
     "metadata": {
      "needs_background": "light"
     },
     "output_type": "display_data"
    }
   ],
   "source": [
    "plt.tight_layout()\n",
    "plt.plot(np.mean(arms_aeg == Env.opt(), axis=0), label=r'Annealing $\\epsilon$-greedy')\n",
    "plt.plot(np.mean(arms_eg == Env.opt(), axis=0), label=r'$\\epsilon$-greedy')\n",
    "plt.xlabel(r'$t$')\n",
    "plt.ylabel(r'$\\mathbb{E}[x(t) = x^*]$')\n",
    "plt.legend()\n",
    "plt.savefig(path_fig + \"result_annealing_epsilon_greedy.png\", bbox_inches=\"tight\")\n",
    "plt.show()"
   ]
  },
  {
   "cell_type": "markdown",
   "id": "wireless-fellowship",
   "metadata": {},
   "source": [
    "### Thompson sampling"
   ]
  },
  {
   "cell_type": "code",
   "execution_count": 50,
   "id": "compound-tuning",
   "metadata": {},
   "outputs": [],
   "source": [
    "class BernoulliTSAgent(object):\n",
    "    def __init__(self):\n",
    "        self.counts = [0 for _ in range(n_arms)]\n",
    "        self.wins = [0 for _ in range(n_arms)]\n",
    "        \n",
    "    def get_arm(self):\n",
    "        beta = lambda N, a: np.random.beta(a+1, N-a+1)\n",
    "        result = [beta(self.counts[i], self.wins[i]) for i in range(n_arms)]\n",
    "        arm = result.index(max(result))\n",
    "        return arm\n",
    "    \n",
    "    def sample(self, arm, reward):\n",
    "        self.counts[arm] += 1\n",
    "        self.wins[arm] = self.wins[arm] + reward"
   ]
  },
  {
   "cell_type": "code",
   "execution_count": 51,
   "id": "prepared-script",
   "metadata": {},
   "outputs": [
    {
     "name": "stderr",
     "output_type": "stream",
     "text": [
      "100%|█████████████████████████████████████████████████████████████████████████████| 1000/1000 [00:04<00:00, 203.49it/s]\n"
     ]
    }
   ],
   "source": [
    "arms_ts, rewards_ts = sim(BernoulliTSAgent)"
   ]
  },
  {
   "cell_type": "code",
   "execution_count": 52,
   "id": "conceptual-vector",
   "metadata": {},
   "outputs": [
    {
     "data": {
      "image/png": "[encoded data removed]",
      "text/plain": [
       "<Figure size 432x288 with 1 Axes>"
      ]
     },
     "metadata": {
      "needs_background": "light"
     },
     "output_type": "display_data"
    }
   ],
   "source": [
    "plt.tight_layout()\n",
    "plt.plot(np.mean(arms_ts == Env.opt(), axis=0), label=r'Thompson Sampling')\n",
    "plt.plot(np.mean(arms_aeg == Env.opt(), axis=0), label=r'Annealing $\\epsilon$-greedy')\n",
    "plt.xlabel(r'$t$')\n",
    "plt.ylabel(r'$\\mathbb{E}[x(t) = x^*]$')\n",
    "plt.legend()\n",
    "plt.savefig(path_fig + \"result_thompson_sampling.png\", bbox_inches=\"tight\")\n",
    "plt.show()"
   ]
  },
  {
   "cell_type": "markdown",
   "id": "exclusive-european",
   "metadata": {},
   "source": [
    "### UCB Algorithms"
   ]
  },
  {
   "cell_type": "code",
   "execution_count": 53,
   "id": "controlled-ceramic",
   "metadata": {},
   "outputs": [],
   "source": [
    "class UCBAgent(object):\n",
    "    def __init__(self):\n",
    "        self.counts = [0 for _ in range(n_arms)]\n",
    "        self.values = [0 for _ in range(n_arms)]\n",
    "        \n",
    "    def calc_ucb(self, arm):\n",
    "        ucb = self.values[arm]\n",
    "        ucb += np.sqrt(np.log(sum(self.counts)) / (2 * self.counts[arm]))\n",
    "        return ucb\n",
    "        \n",
    "    def get_arm(self):\n",
    "        # 一回も選択されていない腕があればそれを選ぶ\n",
    "        if 0 in self.counts:\n",
    "            arm = self.counts.index(0)\n",
    "        else:\n",
    "            ucb = [self.calc_ucb(arm) for arm in range(n_arms)]\n",
    "            arm = ucb.index(max(ucb))\n",
    "        return arm\n",
    "    \n",
    "    def sample(self, arm, reward):\n",
    "        self.counts[arm] += 1\n",
    "        self.values[arm] = (\n",
    "            (self.counts[arm] - 1) * self.values[arm] + reward\n",
    "        ) / self.counts[arm]"
   ]
  },
  {
   "cell_type": "code",
   "execution_count": 54,
   "id": "original-makeup",
   "metadata": {},
   "outputs": [
    {
     "name": "stderr",
     "output_type": "stream",
     "text": [
      "100%|██████████████████████████████████████████████████████████████████████████████| 1000/1000 [00:12<00:00, 82.01it/s]\n"
     ]
    }
   ],
   "source": [
    "arms_ucb, rewards_ucb = sim(UCBAgent)"
   ]
  },
  {
   "cell_type": "code",
   "execution_count": 55,
   "id": "defensive-tobacco",
   "metadata": {},
   "outputs": [
    {
     "data": {
      "image/png": "[encoded data removed]",
      "text/plain": [
       "<Figure size 432x288 with 1 Axes>"
      ]
     },
     "metadata": {
      "needs_background": "light"
     },
     "output_type": "display_data"
    }
   ],
   "source": [
    "plt.plot(np.mean(arms_ucb == Env.opt(), axis=0), label=r'UCB')\n",
    "plt.plot(np.mean(arms_ts == Env.opt(), axis=0), label=r'Thompson Sampling')\n",
    "plt.xlabel(r'$t$')\n",
    "plt.ylabel(r'$\\mathbb{E}[x(t) = x^*]$')\n",
    "plt.legend()\n",
    "plt.savefig(path_fig + \"result_ucb.png\", bbox_inches=\"tight\")\n",
    "plt.show()"
   ]
  },
  {
   "cell_type": "markdown",
   "id": "twelve-compiler",
   "metadata": {},
   "source": [
    "## 特徴量を考慮する"
   ]
  },
  {
   "cell_type": "markdown",
   "id": "enabling-given",
   "metadata": {},
   "source": [
    "### 環境の設定"
   ]
  },
  {
   "cell_type": "code",
   "execution_count": 56,
   "id": "signed-liberal",
   "metadata": {},
   "outputs": [],
   "source": [
    "arms = [[0,0], [0,1], [1,0], [1,1]]\n",
    "# 4番目の腕[1,1]が最適\n",
    "class Env(object):\n",
    "    def p(arm):\n",
    "        x = arm[0]*0.2 + arm[1]*0.8 - 4\n",
    "        return 1 / (1+np.exp(-x))\n",
    "    \n",
    "    def react(arm):\n",
    "        return 1 if np.random.random() < Env.p(arm) else 0\n",
    "    \n",
    "    def opt():\n",
    "        return np.argmax([Env.p(arm) for arm in arms])"
   ]
  },
  {
   "cell_type": "markdown",
   "id": "optical-bridal",
   "metadata": {},
   "source": [
    "### Lin UCB"
   ]
  },
  {
   "cell_type": "code",
   "execution_count": 64,
   "id": "retired-fundamentals",
   "metadata": {},
   "outputs": [],
   "source": [
    "# 逆行列の計算をウッドベリーの公式を用いて短縮\n",
    "class LinUCBAgent(object):\n",
    "    def __init__(self, alpha=1, sigma=1):\n",
    "        self.phis = np.array([[arm[0], arm[1], 1] for arm in arms]).T\n",
    "        self.alpha = alpha\n",
    "        self.sigma = sigma\n",
    "        self.inv_A = np.identity(self.phis.shape[0])\n",
    "        self.b = np.zeros((self.phis.shape[0],1))\n",
    "        self.counts = [0 for _ in range(n_arms)]\n",
    "        \n",
    "    def get_arm(self):\n",
    "        post_mean = self.inv_A.dot(self.b)\n",
    "        post_var = self.inv_A\n",
    "        pred_mean = self.phis.T.dot(post_mean)\n",
    "        pred_var = self.phis.T.dot(post_var).dot(self.phis)\n",
    "        ucb = pred_mean.T + self.alpha * np.sqrt(np.diag(pred_var))\n",
    "        return np.argmax(ucb)\n",
    "    \n",
    "    def sample(self, arm_index, reward):\n",
    "        phi = self.phis[:, [arm_index]]\n",
    "        iAppTiA = self.inv_A.dot(phi).dot(phi.T).dot(self.inv_A)\n",
    "        s2_pTiAp = self.sigma ** 2 + phi.T.dot(self.inv_A).dot(phi)\n",
    "        self.inv_A = self.inv_A - iAppTiA / s2_pTiAp\n",
    "        self.b += phi * reward * (self.sigma ** 2)\n",
    "        self.counts[arm_index] += 1"
   ]
  },
  {
   "cell_type": "code",
   "execution_count": 65,
   "id": "touched-coalition",
   "metadata": {},
   "outputs": [
    {
     "name": "stderr",
     "output_type": "stream",
     "text": [
      "100%|████████████████████████████████████████████████████████████████████████████████| 500/500 [01:31<00:00,  5.46it/s]\n"
     ]
    }
   ],
   "source": [
    "n_iter = 500\n",
    "n_step = 5000\n",
    "selected_arms_linucb = np.zeros((n_iter, n_step), dtype=int)\n",
    "earned_rewards_linucb = np.zeros((n_iter, n_step), dtype=int)\n",
    "for it in tqdm(range(n_iter)):\n",
    "    agent = LinUCBAgent()\n",
    "    for step in range(n_step):\n",
    "        arm_index = agent.get_arm()\n",
    "        reward = Env.react(arms[arm_index])\n",
    "        agent.sample(arm_index, reward)\n",
    "        selected_arms_linucb[it, step] = arm_index\n",
    "        earned_rewards_linucb[it, step] = reward"
   ]
  },
  {
   "cell_type": "code",
   "execution_count": 66,
   "id": "nasty-browser",
   "metadata": {},
   "outputs": [
    {
     "data": {
      "image/png": "[encoded data removed]",
      "text/plain": [
       "<Figure size 432x288 with 1 Axes>"
      ]
     },
     "metadata": {
      "needs_background": "light"
     },
     "output_type": "display_data"
    }
   ],
   "source": [
    "plt.plot(np.mean(selected_arms_linucb==Env.opt(), axis=0))\n",
    "plt.xlabel(r'$t$')\n",
    "plt.ylabel(r'$\\mathbb{E}{x(t) = x^*}$')\n",
    "plt.savefig(path_fig + \"result_linucb.png\", bbox_inches=\"tight\")\n",
    "plt.show()"
   ]
  },
  {
   "cell_type": "markdown",
   "id": "affiliated-eight",
   "metadata": {},
   "source": [
    "### Compare with normal UCB"
   ]
  },
  {
   "cell_type": "code",
   "execution_count": 67,
   "id": "executive-theology",
   "metadata": {},
   "outputs": [],
   "source": [
    "class UCBAgent(object):\n",
    "    def __init__(self):\n",
    "        self.counts = [0 for _ in range(n_arms)]\n",
    "        self.values = [0 for _ in range(n_arms)]\n",
    "        \n",
    "    def calc_ucb(self, arm):\n",
    "        ucb = self.values[arm]\n",
    "        ucb += np.sqrt(np.log(sum(self.counts)) / (2 * self.counts[arm]))\n",
    "        return ucb\n",
    "        \n",
    "    def get_arm(self):\n",
    "        # 一回も選択されていない腕があればそれを選ぶ\n",
    "        if 0 in self.counts:\n",
    "            arm = self.counts.index(0)\n",
    "        else:\n",
    "            ucb = [self.calc_ucb(arm) for arm in range(n_arms)]\n",
    "            arm = ucb.index(max(ucb))\n",
    "        return arm\n",
    "    \n",
    "    def sample(self, arm, reward):\n",
    "        self.counts[arm] += 1\n",
    "        self.values[arm] = (\n",
    "            (self.counts[arm] - 1) * self.values[arm] + reward\n",
    "        ) / self.counts[arm]"
   ]
  },
  {
   "cell_type": "code",
   "execution_count": 68,
   "id": "latest-seattle",
   "metadata": {},
   "outputs": [],
   "source": [
    "agent_classes = [LinUCBAgent, UCBAgent]\n",
    "n_arms = len(arms)\n",
    "n_iter = 500\n",
    "n_step = 5000\n",
    "selected_arms = np.zeros((n_iter, len(agent_classes), n_step), dtype=int)\n",
    "earned_rewards = np.zeros((n_iter, len(agent_classes), n_step), dtype=int)"
   ]
  },
  {
   "cell_type": "code",
   "execution_count": 69,
   "id": "entitled-disney",
   "metadata": {},
   "outputs": [
    {
     "name": "stderr",
     "output_type": "stream",
     "text": [
      "100%|████████████████████████████████████████████████████████████████████████████████| 500/500 [02:08<00:00,  3.91it/s]\n"
     ]
    }
   ],
   "source": [
    "for it in tqdm(range(n_iter)):\n",
    "    for i, agent_class in enumerate(agent_classes):\n",
    "        agent = agent_class()\n",
    "        for step in range(n_step):\n",
    "            arm_index = agent.get_arm()\n",
    "            arm = arms[arm_index]\n",
    "            reward = Env.react(arm)\n",
    "            agent.sample(arm_index, reward)\n",
    "            selected_arms[it, i, step] = arm_index\n",
    "            earned_rewards[it, i, step] = reward"
   ]
  },
  {
   "cell_type": "code",
   "execution_count": 70,
   "id": "permanent-culture",
   "metadata": {},
   "outputs": [
    {
     "data": {
      "image/png": "[encoded data removed]",
      "text/plain": [
       "<Figure size 432x288 with 1 Axes>"
      ]
     },
     "metadata": {
      "needs_background": "light"
     },
     "output_type": "display_data"
    }
   ],
   "source": [
    "acc = np.mean(selected_arms==Env.opt(), axis=0)\n",
    "plt.plot(acc[0], label='LinUCB')\n",
    "plt.plot(acc[1], label='UCB')\n",
    "plt.xlabel(r'$t$')\n",
    "plt.ylabel(r'$\\mathbb{E}[x(t)=x^*]$')\n",
    "plt.legend()\n",
    "plt.savefig(path_fig + \"compare_ucb_vs_linucb.png\", bbox_inches=\"tight\")\n",
    "plt.show()"
   ]
  },
  {
   "cell_type": "markdown",
   "id": "graphic-chamber",
   "metadata": {},
   "source": [
    "### Logistic Thompson Sampling"
   ]
  },
  {
   "cell_type": "code",
   "execution_count": 71,
   "id": "durable-economics",
   "metadata": {},
   "outputs": [],
   "source": [
    "class MCMC_GLMTSAgent(object):\n",
    "    def __init__(self):\n",
    "        self.counts = [0 for _ in arms]\n",
    "        self.wins = [0 for _ in arms]\n",
    "        self.phis = np.array([[arm[0], arm[1], 1] for arm in arms]).T\n",
    "        \n",
    "    def get_arm(self):\n",
    "        if 0 in self.counts: return self.counts.index(0)\n",
    "        with pm.Model() as model:\n",
    "            w = pm.Normal('w', mu=0, sigma=10, shape=3)\n",
    "            linpred = pm.math.dot(w, self.phis)\n",
    "            theta = pm.Deterministic(\n",
    "                'theta', 1/(1+pm.math.exp(linpred))\n",
    "            )\n",
    "            obs = pm.Binomial(\n",
    "                'obs', n=self.counts, p=theta, observed=self.wins\n",
    "            )\n",
    "            trace = pm.sample(2000, chains=1)\n",
    "        sample = pm.sample_posterior_predictive(\n",
    "            trace, samples=1, model=model, vars=[theta]\n",
    "        )\n",
    "        return np.argmax(sample['theta'])\n",
    "    \n",
    "    def sample(self, arm_index, reward):\n",
    "        self.counts[arm_index] += 1\n",
    "        self.wins[arm_index] += reward"
   ]
  },
  {
   "cell_type": "code",
   "execution_count": 72,
   "id": "acoustic-sucking",
   "metadata": {},
   "outputs": [
    {
     "name": "stderr",
     "output_type": "stream",
     "text": [
      "  0%|                                                                                           | 0/20 [00:00<?, ?it/s]Auto-assigning NUTS sampler...\n",
      "Initializing NUTS using jitter+adapt_diag...\n",
      "Sequential sampling (1 chains in 1 job)\n",
      "NUTS: [w]\n"
     ]
    },
    {
     "data": {
      "text/html": [
       "\n",
       "    <div>\n",
       "        <style>\n",
       "            /* Turns off some styling */\n",
       "            progress {\n",
       "                /* gets rid of default border in Firefox and Opera. */\n",
       "                border: none;\n",
       "                /* Needs to be in here for Safari polyfill so background images work as expected. */\n",
       "                background-size: auto;\n",
       "            }\n",
       "            .progress-bar-interrupted, .progress-bar-interrupted::-webkit-progress-bar {\n",
       "                background: #F44336;\n",
       "            }\n",
       "        </style>\n",
       "      <progress value='3000' class='' max='3000' style='width:300px; height:20px; vertical-align: middle;'></progress>\n",
       "      100.00% [3000/3000 00:01<00:00 Sampling chain 0, 0 divergences]\n",
       "    </div>\n",
       "    "
      ],
      "text/plain": [
       "<IPython.core.display.HTML object>"
      ]
     },
     "metadata": {},
     "output_type": "display_data"
    },
    {
     "name": "stderr",
     "output_type": "stream",
     "text": [
      "Sampling 1 chain for 1_000 tune and 2_000 draw iterations (1_000 + 2_000 draws total) took 2 seconds.\n",
      "The acceptance probability does not match the target. It is 0.8868946382572949, but should be close to 0.8. Try to increase the number of tuning steps.\n",
      "Only one chain was sampled, this makes it impossible to run some convergence checks\n",
      "C:\\Users\\ideru\\Anaconda3\\envs\\pymc3\\lib\\site-packages\\pymc3\\sampling.py:1708: UserWarning: samples parameter is smaller than nchains times ndraws, some draws and/or chains may not be represented in the returned posterior predictive sample\n",
      "  \"samples parameter is smaller than nchains times ndraws, some draws \"\n"
     ]
    },
    {
     "data": {
      "text/html": [
       "\n",
       "    <div>\n",
       "        <style>\n",
       "            /* Turns off some styling */\n",
       "            progress {\n",
       "                /* gets rid of default border in Firefox and Opera. */\n",
       "                border: none;\n",
       "                /* Needs to be in here for Safari polyfill so background images work as expected. */\n",
       "                background-size: auto;\n",
       "            }\n",
       "            .progress-bar-interrupted, .progress-bar-interrupted::-webkit-progress-bar {\n",
       "                background: #F44336;\n",
       "            }\n",
       "        </style>\n",
       "      <progress value='1' class='' max='1' style='width:300px; height:20px; vertical-align: middle;'></progress>\n",
       "      100.00% [1/1 00:00<00:00]\n",
       "    </div>\n",
       "    "
      ],
      "text/plain": [
       "<IPython.core.display.HTML object>"
      ]
     },
     "metadata": {},
     "output_type": "display_data"
    },
    {
     "name": "stderr",
     "output_type": "stream",
     "text": [
      " 25%|████████████████████▊                                                              | 5/20 [00:05<00:17,  1.14s/it]Auto-assigning NUTS sampler...\n",
      "Initializing NUTS using jitter+adapt_diag...\n",
      "Sequential sampling (1 chains in 1 job)\n",
      "NUTS: [w]\n"
     ]
    },
    {
     "data": {
      "text/html": [
       "\n",
       "    <div>\n",
       "        <style>\n",
       "            /* Turns off some styling */\n",
       "            progress {\n",
       "                /* gets rid of default border in Firefox and Opera. */\n",
       "                border: none;\n",
       "                /* Needs to be in here for Safari polyfill so background images work as expected. */\n",
       "                background-size: auto;\n",
       "            }\n",
       "            .progress-bar-interrupted, .progress-bar-interrupted::-webkit-progress-bar {\n",
       "                background: #F44336;\n",
       "            }\n",
       "        </style>\n",
       "      <progress value='3000' class='' max='3000' style='width:300px; height:20px; vertical-align: middle;'></progress>\n",
       "      100.00% [3000/3000 00:02<00:00 Sampling chain 0, 0 divergences]\n",
       "    </div>\n",
       "    "
      ],
      "text/plain": [
       "<IPython.core.display.HTML object>"
      ]
     },
     "metadata": {},
     "output_type": "display_data"
    },
    {
     "name": "stderr",
     "output_type": "stream",
     "text": [
      "Sampling 1 chain for 1_000 tune and 2_000 draw iterations (1_000 + 2_000 draws total) took 2 seconds.\n",
      "Only one chain was sampled, this makes it impossible to run some convergence checks\n"
     ]
    },
    {
     "data": {
      "text/html": [
       "\n",
       "    <div>\n",
       "        <style>\n",
       "            /* Turns off some styling */\n",
       "            progress {\n",
       "                /* gets rid of default border in Firefox and Opera. */\n",
       "                border: none;\n",
       "                /* Needs to be in here for Safari polyfill so background images work as expected. */\n",
       "                background-size: auto;\n",
       "            }\n",
       "            .progress-bar-interrupted, .progress-bar-interrupted::-webkit-progress-bar {\n",
       "                background: #F44336;\n",
       "            }\n",
       "        </style>\n",
       "      <progress value='1' class='' max='1' style='width:300px; height:20px; vertical-align: middle;'></progress>\n",
       "      100.00% [1/1 00:00<00:00]\n",
       "    </div>\n",
       "    "
      ],
      "text/plain": [
       "<IPython.core.display.HTML object>"
      ]
     },
     "metadata": {},
     "output_type": "display_data"
    },
    {
     "name": "stderr",
     "output_type": "stream",
     "text": [
      " 30%|████████████████████████▉                                                          | 6/20 [00:09<00:22,  1.64s/it]Auto-assigning NUTS sampler...\n",
      "Initializing NUTS using jitter+adapt_diag...\n",
      "Sequential sampling (1 chains in 1 job)\n",
      "NUTS: [w]\n"
     ]
    },
    {
     "data": {
      "text/html": [
       "\n",
       "    <div>\n",
       "        <style>\n",
       "            /* Turns off some styling */\n",
       "            progress {\n",
       "                /* gets rid of default border in Firefox and Opera. */\n",
       "                border: none;\n",
       "                /* Needs to be in here for Safari polyfill so background images work as expected. */\n",
       "                background-size: auto;\n",
       "            }\n",
       "            .progress-bar-interrupted, .progress-bar-interrupted::-webkit-progress-bar {\n",
       "                background: #F44336;\n",
       "            }\n",
       "        </style>\n",
       "      <progress value='3000' class='' max='3000' style='width:300px; height:20px; vertical-align: middle;'></progress>\n",
       "      100.00% [3000/3000 00:02<00:00 Sampling chain 0, 0 divergences]\n",
       "    </div>\n",
       "    "
      ],
      "text/plain": [
       "<IPython.core.display.HTML object>"
      ]
     },
     "metadata": {},
     "output_type": "display_data"
    },
    {
     "name": "stderr",
     "output_type": "stream",
     "text": [
      "Sampling 1 chain for 1_000 tune and 2_000 draw iterations (1_000 + 2_000 draws total) took 2 seconds.\n",
      "Only one chain was sampled, this makes it impossible to run some convergence checks\n"
     ]
    },
    {
     "data": {
      "text/html": [
       "\n",
       "    <div>\n",
       "        <style>\n",
       "            /* Turns off some styling */\n",
       "            progress {\n",
       "                /* gets rid of default border in Firefox and Opera. */\n",
       "                border: none;\n",
       "                /* Needs to be in here for Safari polyfill so background images work as expected. */\n",
       "                background-size: auto;\n",
       "            }\n",
       "            .progress-bar-interrupted, .progress-bar-interrupted::-webkit-progress-bar {\n",
       "                background: #F44336;\n",
       "            }\n",
       "        </style>\n",
       "      <progress value='1' class='' max='1' style='width:300px; height:20px; vertical-align: middle;'></progress>\n",
       "      100.00% [1/1 00:00<00:00]\n",
       "    </div>\n",
       "    "
      ],
      "text/plain": [
       "<IPython.core.display.HTML object>"
      ]
     },
     "metadata": {},
     "output_type": "display_data"
    },
    {
     "name": "stderr",
     "output_type": "stream",
     "text": [
      " 35%|█████████████████████████████                                                      | 7/20 [00:12<00:27,  2.11s/it]Auto-assigning NUTS sampler...\n",
      "Initializing NUTS using jitter+adapt_diag...\n",
      "Sequential sampling (1 chains in 1 job)\n",
      "NUTS: [w]\n"
     ]
    },
    {
     "data": {
      "text/html": [
       "\n",
       "    <div>\n",
       "        <style>\n",
       "            /* Turns off some styling */\n",
       "            progress {\n",
       "                /* gets rid of default border in Firefox and Opera. */\n",
       "                border: none;\n",
       "                /* Needs to be in here for Safari polyfill so background images work as expected. */\n",
       "                background-size: auto;\n",
       "            }\n",
       "            .progress-bar-interrupted, .progress-bar-interrupted::-webkit-progress-bar {\n",
       "                background: #F44336;\n",
       "            }\n",
       "        </style>\n",
       "      <progress value='3000' class='' max='3000' style='width:300px; height:20px; vertical-align: middle;'></progress>\n",
       "      100.00% [3000/3000 00:02<00:00 Sampling chain 0, 0 divergences]\n",
       "    </div>\n",
       "    "
      ],
      "text/plain": [
       "<IPython.core.display.HTML object>"
      ]
     },
     "metadata": {},
     "output_type": "display_data"
    },
    {
     "name": "stderr",
     "output_type": "stream",
     "text": [
      "Sampling 1 chain for 1_000 tune and 2_000 draw iterations (1_000 + 2_000 draws total) took 3 seconds.\n",
      "The acceptance probability does not match the target. It is 0.8862162090152209, but should be close to 0.8. Try to increase the number of tuning steps.\n",
      "Only one chain was sampled, this makes it impossible to run some convergence checks\n"
     ]
    },
    {
     "data": {
      "text/html": [
       "\n",
       "    <div>\n",
       "        <style>\n",
       "            /* Turns off some styling */\n",
       "            progress {\n",
       "                /* gets rid of default border in Firefox and Opera. */\n",
       "                border: none;\n",
       "                /* Needs to be in here for Safari polyfill so background images work as expected. */\n",
       "                background-size: auto;\n",
       "            }\n",
       "            .progress-bar-interrupted, .progress-bar-interrupted::-webkit-progress-bar {\n",
       "                background: #F44336;\n",
       "            }\n",
       "        </style>\n",
       "      <progress value='1' class='' max='1' style='width:300px; height:20px; vertical-align: middle;'></progress>\n",
       "      100.00% [1/1 00:00<00:00]\n",
       "    </div>\n",
       "    "
      ],
      "text/plain": [
       "<IPython.core.display.HTML object>"
      ]
     },
     "metadata": {},
     "output_type": "display_data"
    },
    {
     "name": "stderr",
     "output_type": "stream",
     "text": [
      " 40%|█████████████████████████████████▏                                                 | 8/20 [00:16<00:30,  2.53s/it]Auto-assigning NUTS sampler...\n",
      "Initializing NUTS using jitter+adapt_diag...\n",
      "Sequential sampling (1 chains in 1 job)\n",
      "NUTS: [w]\n"
     ]
    },
    {
     "data": {
      "text/html": [
       "\n",
       "    <div>\n",
       "        <style>\n",
       "            /* Turns off some styling */\n",
       "            progress {\n",
       "                /* gets rid of default border in Firefox and Opera. */\n",
       "                border: none;\n",
       "                /* Needs to be in here for Safari polyfill so background images work as expected. */\n",
       "                background-size: auto;\n",
       "            }\n",
       "            .progress-bar-interrupted, .progress-bar-interrupted::-webkit-progress-bar {\n",
       "                background: #F44336;\n",
       "            }\n",
       "        </style>\n",
       "      <progress value='3000' class='' max='3000' style='width:300px; height:20px; vertical-align: middle;'></progress>\n",
       "      100.00% [3000/3000 00:02<00:00 Sampling chain 0, 0 divergences]\n",
       "    </div>\n",
       "    "
      ],
      "text/plain": [
       "<IPython.core.display.HTML object>"
      ]
     },
     "metadata": {},
     "output_type": "display_data"
    },
    {
     "name": "stderr",
     "output_type": "stream",
     "text": [
      "Sampling 1 chain for 1_000 tune and 2_000 draw iterations (1_000 + 2_000 draws total) took 3 seconds.\n",
      "Only one chain was sampled, this makes it impossible to run some convergence checks\n"
     ]
    },
    {
     "data": {
      "text/html": [
       "\n",
       "    <div>\n",
       "        <style>\n",
       "            /* Turns off some styling */\n",
       "            progress {\n",
       "                /* gets rid of default border in Firefox and Opera. */\n",
       "                border: none;\n",
       "                /* Needs to be in here for Safari polyfill so background images work as expected. */\n",
       "                background-size: auto;\n",
       "            }\n",
       "            .progress-bar-interrupted, .progress-bar-interrupted::-webkit-progress-bar {\n",
       "                background: #F44336;\n",
       "            }\n",
       "        </style>\n",
       "      <progress value='1' class='' max='1' style='width:300px; height:20px; vertical-align: middle;'></progress>\n",
       "      100.00% [1/1 00:00<00:00]\n",
       "    </div>\n",
       "    "
      ],
      "text/plain": [
       "<IPython.core.display.HTML object>"
      ]
     },
     "metadata": {},
     "output_type": "display_data"
    },
    {
     "name": "stderr",
     "output_type": "stream",
     "text": [
      " 45%|█████████████████████████████████████▎                                             | 9/20 [00:20<00:31,  2.90s/it]Auto-assigning NUTS sampler...\n",
      "Initializing NUTS using jitter+adapt_diag...\n",
      "Sequential sampling (1 chains in 1 job)\n",
      "NUTS: [w]\n"
     ]
    },
    {
     "data": {
      "text/html": [
       "\n",
       "    <div>\n",
       "        <style>\n",
       "            /* Turns off some styling */\n",
       "            progress {\n",
       "                /* gets rid of default border in Firefox and Opera. */\n",
       "                border: none;\n",
       "                /* Needs to be in here for Safari polyfill so background images work as expected. */\n",
       "                background-size: auto;\n",
       "            }\n",
       "            .progress-bar-interrupted, .progress-bar-interrupted::-webkit-progress-bar {\n",
       "                background: #F44336;\n",
       "            }\n",
       "        </style>\n",
       "      <progress value='3000' class='' max='3000' style='width:300px; height:20px; vertical-align: middle;'></progress>\n",
       "      100.00% [3000/3000 00:02<00:00 Sampling chain 0, 0 divergences]\n",
       "    </div>\n",
       "    "
      ],
      "text/plain": [
       "<IPython.core.display.HTML object>"
      ]
     },
     "metadata": {},
     "output_type": "display_data"
    },
    {
     "name": "stderr",
     "output_type": "stream",
     "text": [
      "Sampling 1 chain for 1_000 tune and 2_000 draw iterations (1_000 + 2_000 draws total) took 3 seconds.\n",
      "Only one chain was sampled, this makes it impossible to run some convergence checks\n"
     ]
    },
    {
     "data": {
      "text/html": [
       "\n",
       "    <div>\n",
       "        <style>\n",
       "            /* Turns off some styling */\n",
       "            progress {\n",
       "                /* gets rid of default border in Firefox and Opera. */\n",
       "                border: none;\n",
       "                /* Needs to be in here for Safari polyfill so background images work as expected. */\n",
       "                background-size: auto;\n",
       "            }\n",
       "            .progress-bar-interrupted, .progress-bar-interrupted::-webkit-progress-bar {\n",
       "                background: #F44336;\n",
       "            }\n",
       "        </style>\n",
       "      <progress value='1' class='' max='1' style='width:300px; height:20px; vertical-align: middle;'></progress>\n",
       "      100.00% [1/1 00:00<00:00]\n",
       "    </div>\n",
       "    "
      ],
      "text/plain": [
       "<IPython.core.display.HTML object>"
      ]
     },
     "metadata": {},
     "output_type": "display_data"
    },
    {
     "name": "stderr",
     "output_type": "stream",
     "text": [
      " 50%|█████████████████████████████████████████                                         | 10/20 [00:24<00:31,  3.20s/it]Auto-assigning NUTS sampler...\n",
      "Initializing NUTS using jitter+adapt_diag...\n",
      "Sequential sampling (1 chains in 1 job)\n",
      "NUTS: [w]\n"
     ]
    },
    {
     "data": {
      "text/html": [
       "\n",
       "    <div>\n",
       "        <style>\n",
       "            /* Turns off some styling */\n",
       "            progress {\n",
       "                /* gets rid of default border in Firefox and Opera. */\n",
       "                border: none;\n",
       "                /* Needs to be in here for Safari polyfill so background images work as expected. */\n",
       "                background-size: auto;\n",
       "            }\n",
       "            .progress-bar-interrupted, .progress-bar-interrupted::-webkit-progress-bar {\n",
       "                background: #F44336;\n",
       "            }\n",
       "        </style>\n",
       "      <progress value='3000' class='' max='3000' style='width:300px; height:20px; vertical-align: middle;'></progress>\n",
       "      100.00% [3000/3000 00:02<00:00 Sampling chain 0, 0 divergences]\n",
       "    </div>\n",
       "    "
      ],
      "text/plain": [
       "<IPython.core.display.HTML object>"
      ]
     },
     "metadata": {},
     "output_type": "display_data"
    },
    {
     "name": "stderr",
     "output_type": "stream",
     "text": [
      "Sampling 1 chain for 1_000 tune and 2_000 draw iterations (1_000 + 2_000 draws total) took 3 seconds.\n",
      "Only one chain was sampled, this makes it impossible to run some convergence checks\n"
     ]
    },
    {
     "data": {
      "text/html": [
       "\n",
       "    <div>\n",
       "        <style>\n",
       "            /* Turns off some styling */\n",
       "            progress {\n",
       "                /* gets rid of default border in Firefox and Opera. */\n",
       "                border: none;\n",
       "                /* Needs to be in here for Safari polyfill so background images work as expected. */\n",
       "                background-size: auto;\n",
       "            }\n",
       "            .progress-bar-interrupted, .progress-bar-interrupted::-webkit-progress-bar {\n",
       "                background: #F44336;\n",
       "            }\n",
       "        </style>\n",
       "      <progress value='1' class='' max='1' style='width:300px; height:20px; vertical-align: middle;'></progress>\n",
       "      100.00% [1/1 00:00<00:00]\n",
       "    </div>\n",
       "    "
      ],
      "text/plain": [
       "<IPython.core.display.HTML object>"
      ]
     },
     "metadata": {},
     "output_type": "display_data"
    },
    {
     "name": "stderr",
     "output_type": "stream",
     "text": [
      " 55%|█████████████████████████████████████████████                                     | 11/20 [00:28<00:31,  3.46s/it]Auto-assigning NUTS sampler...\n",
      "Initializing NUTS using jitter+adapt_diag...\n",
      "Sequential sampling (1 chains in 1 job)\n",
      "NUTS: [w]\n"
     ]
    },
    {
     "data": {
      "text/html": [
       "\n",
       "    <div>\n",
       "        <style>\n",
       "            /* Turns off some styling */\n",
       "            progress {\n",
       "                /* gets rid of default border in Firefox and Opera. */\n",
       "                border: none;\n",
       "                /* Needs to be in here for Safari polyfill so background images work as expected. */\n",
       "                background-size: auto;\n",
       "            }\n",
       "            .progress-bar-interrupted, .progress-bar-interrupted::-webkit-progress-bar {\n",
       "                background: #F44336;\n",
       "            }\n",
       "        </style>\n",
       "      <progress value='3000' class='' max='3000' style='width:300px; height:20px; vertical-align: middle;'></progress>\n",
       "      100.00% [3000/3000 00:03<00:00 Sampling chain 0, 0 divergences]\n",
       "    </div>\n",
       "    "
      ],
      "text/plain": [
       "<IPython.core.display.HTML object>"
      ]
     },
     "metadata": {},
     "output_type": "display_data"
    },
    {
     "name": "stderr",
     "output_type": "stream",
     "text": [
      "Sampling 1 chain for 1_000 tune and 2_000 draw iterations (1_000 + 2_000 draws total) took 3 seconds.\n",
      "Only one chain was sampled, this makes it impossible to run some convergence checks\n"
     ]
    },
    {
     "data": {
      "text/html": [
       "\n",
       "    <div>\n",
       "        <style>\n",
       "            /* Turns off some styling */\n",
       "            progress {\n",
       "                /* gets rid of default border in Firefox and Opera. */\n",
       "                border: none;\n",
       "                /* Needs to be in here for Safari polyfill so background images work as expected. */\n",
       "                background-size: auto;\n",
       "            }\n",
       "            .progress-bar-interrupted, .progress-bar-interrupted::-webkit-progress-bar {\n",
       "                background: #F44336;\n",
       "            }\n",
       "        </style>\n",
       "      <progress value='1' class='' max='1' style='width:300px; height:20px; vertical-align: middle;'></progress>\n",
       "      100.00% [1/1 00:00<00:00]\n",
       "    </div>\n",
       "    "
      ],
      "text/plain": [
       "<IPython.core.display.HTML object>"
      ]
     },
     "metadata": {},
     "output_type": "display_data"
    },
    {
     "name": "stderr",
     "output_type": "stream",
     "text": [
      " 60%|█████████████████████████████████████████████████▏                                | 12/20 [00:32<00:29,  3.66s/it]Auto-assigning NUTS sampler...\n",
      "Initializing NUTS using jitter+adapt_diag...\n",
      "Sequential sampling (1 chains in 1 job)\n",
      "NUTS: [w]\n"
     ]
    },
    {
     "data": {
      "text/html": [
       "\n",
       "    <div>\n",
       "        <style>\n",
       "            /* Turns off some styling */\n",
       "            progress {\n",
       "                /* gets rid of default border in Firefox and Opera. */\n",
       "                border: none;\n",
       "                /* Needs to be in here for Safari polyfill so background images work as expected. */\n",
       "                background-size: auto;\n",
       "            }\n",
       "            .progress-bar-interrupted, .progress-bar-interrupted::-webkit-progress-bar {\n",
       "                background: #F44336;\n",
       "            }\n",
       "        </style>\n",
       "      <progress value='3000' class='' max='3000' style='width:300px; height:20px; vertical-align: middle;'></progress>\n",
       "      100.00% [3000/3000 00:03<00:00 Sampling chain 0, 0 divergences]\n",
       "    </div>\n",
       "    "
      ],
      "text/plain": [
       "<IPython.core.display.HTML object>"
      ]
     },
     "metadata": {},
     "output_type": "display_data"
    },
    {
     "name": "stderr",
     "output_type": "stream",
     "text": [
      "Sampling 1 chain for 1_000 tune and 2_000 draw iterations (1_000 + 2_000 draws total) took 3 seconds.\n",
      "Only one chain was sampled, this makes it impossible to run some convergence checks\n"
     ]
    },
    {
     "data": {
      "text/html": [
       "\n",
       "    <div>\n",
       "        <style>\n",
       "            /* Turns off some styling */\n",
       "            progress {\n",
       "                /* gets rid of default border in Firefox and Opera. */\n",
       "                border: none;\n",
       "                /* Needs to be in here for Safari polyfill so background images work as expected. */\n",
       "                background-size: auto;\n",
       "            }\n",
       "            .progress-bar-interrupted, .progress-bar-interrupted::-webkit-progress-bar {\n",
       "                background: #F44336;\n",
       "            }\n",
       "        </style>\n",
       "      <progress value='1' class='' max='1' style='width:300px; height:20px; vertical-align: middle;'></progress>\n",
       "      100.00% [1/1 00:00<00:00]\n",
       "    </div>\n",
       "    "
      ],
      "text/plain": [
       "<IPython.core.display.HTML object>"
      ]
     },
     "metadata": {},
     "output_type": "display_data"
    },
    {
     "name": "stderr",
     "output_type": "stream",
     "text": [
      " 65%|█████████████████████████████████████████████████████▎                            | 13/20 [00:36<00:26,  3.84s/it]Auto-assigning NUTS sampler...\n",
      "Initializing NUTS using jitter+adapt_diag...\n",
      "Sequential sampling (1 chains in 1 job)\n",
      "NUTS: [w]\n"
     ]
    },
    {
     "data": {
      "text/html": [
       "\n",
       "    <div>\n",
       "        <style>\n",
       "            /* Turns off some styling */\n",
       "            progress {\n",
       "                /* gets rid of default border in Firefox and Opera. */\n",
       "                border: none;\n",
       "                /* Needs to be in here for Safari polyfill so background images work as expected. */\n",
       "                background-size: auto;\n",
       "            }\n",
       "            .progress-bar-interrupted, .progress-bar-interrupted::-webkit-progress-bar {\n",
       "                background: #F44336;\n",
       "            }\n",
       "        </style>\n",
       "      <progress value='3000' class='' max='3000' style='width:300px; height:20px; vertical-align: middle;'></progress>\n",
       "      100.00% [3000/3000 00:03<00:00 Sampling chain 0, 0 divergences]\n",
       "    </div>\n",
       "    "
      ],
      "text/plain": [
       "<IPython.core.display.HTML object>"
      ]
     },
     "metadata": {},
     "output_type": "display_data"
    },
    {
     "name": "stderr",
     "output_type": "stream",
     "text": [
      "Sampling 1 chain for 1_000 tune and 2_000 draw iterations (1_000 + 2_000 draws total) took 3 seconds.\n",
      "The acceptance probability does not match the target. It is 0.8915511636297355, but should be close to 0.8. Try to increase the number of tuning steps.\n",
      "Only one chain was sampled, this makes it impossible to run some convergence checks\n"
     ]
    },
    {
     "data": {
      "text/html": [
       "\n",
       "    <div>\n",
       "        <style>\n",
       "            /* Turns off some styling */\n",
       "            progress {\n",
       "                /* gets rid of default border in Firefox and Opera. */\n",
       "                border: none;\n",
       "                /* Needs to be in here for Safari polyfill so background images work as expected. */\n",
       "                background-size: auto;\n",
       "            }\n",
       "            .progress-bar-interrupted, .progress-bar-interrupted::-webkit-progress-bar {\n",
       "                background: #F44336;\n",
       "            }\n",
       "        </style>\n",
       "      <progress value='1' class='' max='1' style='width:300px; height:20px; vertical-align: middle;'></progress>\n",
       "      100.00% [1/1 00:00<00:00]\n",
       "    </div>\n",
       "    "
      ],
      "text/plain": [
       "<IPython.core.display.HTML object>"
      ]
     },
     "metadata": {},
     "output_type": "display_data"
    },
    {
     "name": "stderr",
     "output_type": "stream",
     "text": [
      " 70%|█████████████████████████████████████████████████████████▍                        | 14/20 [00:41<00:24,  4.02s/it]Auto-assigning NUTS sampler...\n",
      "Initializing NUTS using jitter+adapt_diag...\n",
      "Sequential sampling (1 chains in 1 job)\n",
      "NUTS: [w]\n"
     ]
    },
    {
     "data": {
      "text/html": [
       "\n",
       "    <div>\n",
       "        <style>\n",
       "            /* Turns off some styling */\n",
       "            progress {\n",
       "                /* gets rid of default border in Firefox and Opera. */\n",
       "                border: none;\n",
       "                /* Needs to be in here for Safari polyfill so background images work as expected. */\n",
       "                background-size: auto;\n",
       "            }\n",
       "            .progress-bar-interrupted, .progress-bar-interrupted::-webkit-progress-bar {\n",
       "                background: #F44336;\n",
       "            }\n",
       "        </style>\n",
       "      <progress value='3000' class='' max='3000' style='width:300px; height:20px; vertical-align: middle;'></progress>\n",
       "      100.00% [3000/3000 00:03<00:00 Sampling chain 0, 0 divergences]\n",
       "    </div>\n",
       "    "
      ],
      "text/plain": [
       "<IPython.core.display.HTML object>"
      ]
     },
     "metadata": {},
     "output_type": "display_data"
    },
    {
     "name": "stderr",
     "output_type": "stream",
     "text": [
      "Sampling 1 chain for 1_000 tune and 2_000 draw iterations (1_000 + 2_000 draws total) took 3 seconds.\n",
      "Only one chain was sampled, this makes it impossible to run some convergence checks\n"
     ]
    },
    {
     "data": {
      "text/html": [
       "\n",
       "    <div>\n",
       "        <style>\n",
       "            /* Turns off some styling */\n",
       "            progress {\n",
       "                /* gets rid of default border in Firefox and Opera. */\n",
       "                border: none;\n",
       "                /* Needs to be in here for Safari polyfill so background images work as expected. */\n",
       "                background-size: auto;\n",
       "            }\n",
       "            .progress-bar-interrupted, .progress-bar-interrupted::-webkit-progress-bar {\n",
       "                background: #F44336;\n",
       "            }\n",
       "        </style>\n",
       "      <progress value='1' class='' max='1' style='width:300px; height:20px; vertical-align: middle;'></progress>\n",
       "      100.00% [1/1 00:00<00:00]\n",
       "    </div>\n",
       "    "
      ],
      "text/plain": [
       "<IPython.core.display.HTML object>"
      ]
     },
     "metadata": {},
     "output_type": "display_data"
    },
    {
     "name": "stderr",
     "output_type": "stream",
     "text": [
      " 75%|█████████████████████████████████████████████████████████████▌                    | 15/20 [00:45<00:21,  4.21s/it]Auto-assigning NUTS sampler...\n",
      "Initializing NUTS using jitter+adapt_diag...\n",
      "Sequential sampling (1 chains in 1 job)\n",
      "NUTS: [w]\n"
     ]
    },
    {
     "data": {
      "text/html": [
       "\n",
       "    <div>\n",
       "        <style>\n",
       "            /* Turns off some styling */\n",
       "            progress {\n",
       "                /* gets rid of default border in Firefox and Opera. */\n",
       "                border: none;\n",
       "                /* Needs to be in here for Safari polyfill so background images work as expected. */\n",
       "                background-size: auto;\n",
       "            }\n",
       "            .progress-bar-interrupted, .progress-bar-interrupted::-webkit-progress-bar {\n",
       "                background: #F44336;\n",
       "            }\n",
       "        </style>\n",
       "      <progress value='3000' class='' max='3000' style='width:300px; height:20px; vertical-align: middle;'></progress>\n",
       "      100.00% [3000/3000 00:03<00:00 Sampling chain 0, 0 divergences]\n",
       "    </div>\n",
       "    "
      ],
      "text/plain": [
       "<IPython.core.display.HTML object>"
      ]
     },
     "metadata": {},
     "output_type": "display_data"
    },
    {
     "name": "stderr",
     "output_type": "stream",
     "text": [
      "Sampling 1 chain for 1_000 tune and 2_000 draw iterations (1_000 + 2_000 draws total) took 3 seconds.\n",
      "Only one chain was sampled, this makes it impossible to run some convergence checks\n"
     ]
    },
    {
     "data": {
      "text/html": [
       "\n",
       "    <div>\n",
       "        <style>\n",
       "            /* Turns off some styling */\n",
       "            progress {\n",
       "                /* gets rid of default border in Firefox and Opera. */\n",
       "                border: none;\n",
       "                /* Needs to be in here for Safari polyfill so background images work as expected. */\n",
       "                background-size: auto;\n",
       "            }\n",
       "            .progress-bar-interrupted, .progress-bar-interrupted::-webkit-progress-bar {\n",
       "                background: #F44336;\n",
       "            }\n",
       "        </style>\n",
       "      <progress value='1' class='' max='1' style='width:300px; height:20px; vertical-align: middle;'></progress>\n",
       "      100.00% [1/1 00:00<00:00]\n",
       "    </div>\n",
       "    "
      ],
      "text/plain": [
       "<IPython.core.display.HTML object>"
      ]
     },
     "metadata": {},
     "output_type": "display_data"
    },
    {
     "name": "stderr",
     "output_type": "stream",
     "text": [
      " 80%|█████████████████████████████████████████████████████████████████▌                | 16/20 [00:50<00:17,  4.32s/it]Auto-assigning NUTS sampler...\n",
      "Initializing NUTS using jitter+adapt_diag...\n",
      "Sequential sampling (1 chains in 1 job)\n",
      "NUTS: [w]\n"
     ]
    },
    {
     "data": {
      "text/html": [
       "\n",
       "    <div>\n",
       "        <style>\n",
       "            /* Turns off some styling */\n",
       "            progress {\n",
       "                /* gets rid of default border in Firefox and Opera. */\n",
       "                border: none;\n",
       "                /* Needs to be in here for Safari polyfill so background images work as expected. */\n",
       "                background-size: auto;\n",
       "            }\n",
       "            .progress-bar-interrupted, .progress-bar-interrupted::-webkit-progress-bar {\n",
       "                background: #F44336;\n",
       "            }\n",
       "        </style>\n",
       "      <progress value='3000' class='' max='3000' style='width:300px; height:20px; vertical-align: middle;'></progress>\n",
       "      100.00% [3000/3000 00:03<00:00 Sampling chain 0, 0 divergences]\n",
       "    </div>\n",
       "    "
      ],
      "text/plain": [
       "<IPython.core.display.HTML object>"
      ]
     },
     "metadata": {},
     "output_type": "display_data"
    },
    {
     "name": "stderr",
     "output_type": "stream",
     "text": [
      "Sampling 1 chain for 1_000 tune and 2_000 draw iterations (1_000 + 2_000 draws total) took 3 seconds.\n",
      "Only one chain was sampled, this makes it impossible to run some convergence checks\n"
     ]
    },
    {
     "data": {
      "text/html": [
       "\n",
       "    <div>\n",
       "        <style>\n",
       "            /* Turns off some styling */\n",
       "            progress {\n",
       "                /* gets rid of default border in Firefox and Opera. */\n",
       "                border: none;\n",
       "                /* Needs to be in here for Safari polyfill so background images work as expected. */\n",
       "                background-size: auto;\n",
       "            }\n",
       "            .progress-bar-interrupted, .progress-bar-interrupted::-webkit-progress-bar {\n",
       "                background: #F44336;\n",
       "            }\n",
       "        </style>\n",
       "      <progress value='1' class='' max='1' style='width:300px; height:20px; vertical-align: middle;'></progress>\n",
       "      100.00% [1/1 00:00<00:00]\n",
       "    </div>\n",
       "    "
      ],
      "text/plain": [
       "<IPython.core.display.HTML object>"
      ]
     },
     "metadata": {},
     "output_type": "display_data"
    },
    {
     "name": "stderr",
     "output_type": "stream",
     "text": [
      " 85%|█████████████████████████████████████████████████████████████████████▋            | 17/20 [00:55<00:13,  4.39s/it]Auto-assigning NUTS sampler...\n",
      "Initializing NUTS using jitter+adapt_diag...\n",
      "Sequential sampling (1 chains in 1 job)\n",
      "NUTS: [w]\n"
     ]
    },
    {
     "data": {
      "text/html": [
       "\n",
       "    <div>\n",
       "        <style>\n",
       "            /* Turns off some styling */\n",
       "            progress {\n",
       "                /* gets rid of default border in Firefox and Opera. */\n",
       "                border: none;\n",
       "                /* Needs to be in here for Safari polyfill so background images work as expected. */\n",
       "                background-size: auto;\n",
       "            }\n",
       "            .progress-bar-interrupted, .progress-bar-interrupted::-webkit-progress-bar {\n",
       "                background: #F44336;\n",
       "            }\n",
       "        </style>\n",
       "      <progress value='3000' class='' max='3000' style='width:300px; height:20px; vertical-align: middle;'></progress>\n",
       "      100.00% [3000/3000 00:04<00:00 Sampling chain 0, 0 divergences]\n",
       "    </div>\n",
       "    "
      ],
      "text/plain": [
       "<IPython.core.display.HTML object>"
      ]
     },
     "metadata": {},
     "output_type": "display_data"
    },
    {
     "name": "stderr",
     "output_type": "stream",
     "text": [
      "Sampling 1 chain for 1_000 tune and 2_000 draw iterations (1_000 + 2_000 draws total) took 4 seconds.\n",
      "Only one chain was sampled, this makes it impossible to run some convergence checks\n"
     ]
    },
    {
     "data": {
      "text/html": [
       "\n",
       "    <div>\n",
       "        <style>\n",
       "            /* Turns off some styling */\n",
       "            progress {\n",
       "                /* gets rid of default border in Firefox and Opera. */\n",
       "                border: none;\n",
       "                /* Needs to be in here for Safari polyfill so background images work as expected. */\n",
       "                background-size: auto;\n",
       "            }\n",
       "            .progress-bar-interrupted, .progress-bar-interrupted::-webkit-progress-bar {\n",
       "                background: #F44336;\n",
       "            }\n",
       "        </style>\n",
       "      <progress value='1' class='' max='1' style='width:300px; height:20px; vertical-align: middle;'></progress>\n",
       "      100.00% [1/1 00:00<00:00]\n",
       "    </div>\n",
       "    "
      ],
      "text/plain": [
       "<IPython.core.display.HTML object>"
      ]
     },
     "metadata": {},
     "output_type": "display_data"
    },
    {
     "name": "stderr",
     "output_type": "stream",
     "text": [
      " 90%|█████████████████████████████████████████████████████████████████████████▊        | 18/20 [01:00<00:09,  4.63s/it]Auto-assigning NUTS sampler...\n",
      "Initializing NUTS using jitter+adapt_diag...\n",
      "Sequential sampling (1 chains in 1 job)\n",
      "NUTS: [w]\n"
     ]
    },
    {
     "data": {
      "text/html": [
       "\n",
       "    <div>\n",
       "        <style>\n",
       "            /* Turns off some styling */\n",
       "            progress {\n",
       "                /* gets rid of default border in Firefox and Opera. */\n",
       "                border: none;\n",
       "                /* Needs to be in here for Safari polyfill so background images work as expected. */\n",
       "                background-size: auto;\n",
       "            }\n",
       "            .progress-bar-interrupted, .progress-bar-interrupted::-webkit-progress-bar {\n",
       "                background: #F44336;\n",
       "            }\n",
       "        </style>\n",
       "      <progress value='3000' class='' max='3000' style='width:300px; height:20px; vertical-align: middle;'></progress>\n",
       "      100.00% [3000/3000 00:03<00:00 Sampling chain 0, 0 divergences]\n",
       "    </div>\n",
       "    "
      ],
      "text/plain": [
       "<IPython.core.display.HTML object>"
      ]
     },
     "metadata": {},
     "output_type": "display_data"
    },
    {
     "name": "stderr",
     "output_type": "stream",
     "text": [
      "Sampling 1 chain for 1_000 tune and 2_000 draw iterations (1_000 + 2_000 draws total) took 4 seconds.\n",
      "Only one chain was sampled, this makes it impossible to run some convergence checks\n"
     ]
    },
    {
     "data": {
      "text/html": [
       "\n",
       "    <div>\n",
       "        <style>\n",
       "            /* Turns off some styling */\n",
       "            progress {\n",
       "                /* gets rid of default border in Firefox and Opera. */\n",
       "                border: none;\n",
       "                /* Needs to be in here for Safari polyfill so background images work as expected. */\n",
       "                background-size: auto;\n",
       "            }\n",
       "            .progress-bar-interrupted, .progress-bar-interrupted::-webkit-progress-bar {\n",
       "                background: #F44336;\n",
       "            }\n",
       "        </style>\n",
       "      <progress value='1' class='' max='1' style='width:300px; height:20px; vertical-align: middle;'></progress>\n",
       "      100.00% [1/1 00:00<00:00]\n",
       "    </div>\n",
       "    "
      ],
      "text/plain": [
       "<IPython.core.display.HTML object>"
      ]
     },
     "metadata": {},
     "output_type": "display_data"
    },
    {
     "name": "stderr",
     "output_type": "stream",
     "text": [
      " 95%|█████████████████████████████████████████████████████████████████████████████▉    | 19/20 [01:05<00:04,  4.73s/it]Auto-assigning NUTS sampler...\n",
      "Initializing NUTS using jitter+adapt_diag...\n",
      "Sequential sampling (1 chains in 1 job)\n",
      "NUTS: [w]\n"
     ]
    },
    {
     "data": {
      "text/html": [
       "\n",
       "    <div>\n",
       "        <style>\n",
       "            /* Turns off some styling */\n",
       "            progress {\n",
       "                /* gets rid of default border in Firefox and Opera. */\n",
       "                border: none;\n",
       "                /* Needs to be in here for Safari polyfill so background images work as expected. */\n",
       "                background-size: auto;\n",
       "            }\n",
       "            .progress-bar-interrupted, .progress-bar-interrupted::-webkit-progress-bar {\n",
       "                background: #F44336;\n",
       "            }\n",
       "        </style>\n",
       "      <progress value='3000' class='' max='3000' style='width:300px; height:20px; vertical-align: middle;'></progress>\n",
       "      100.00% [3000/3000 00:03<00:00 Sampling chain 0, 0 divergences]\n",
       "    </div>\n",
       "    "
      ],
      "text/plain": [
       "<IPython.core.display.HTML object>"
      ]
     },
     "metadata": {},
     "output_type": "display_data"
    },
    {
     "name": "stderr",
     "output_type": "stream",
     "text": [
      "Sampling 1 chain for 1_000 tune and 2_000 draw iterations (1_000 + 2_000 draws total) took 4 seconds.\n",
      "Only one chain was sampled, this makes it impossible to run some convergence checks\n"
     ]
    },
    {
     "data": {
      "text/html": [
       "\n",
       "    <div>\n",
       "        <style>\n",
       "            /* Turns off some styling */\n",
       "            progress {\n",
       "                /* gets rid of default border in Firefox and Opera. */\n",
       "                border: none;\n",
       "                /* Needs to be in here for Safari polyfill so background images work as expected. */\n",
       "                background-size: auto;\n",
       "            }\n",
       "            .progress-bar-interrupted, .progress-bar-interrupted::-webkit-progress-bar {\n",
       "                background: #F44336;\n",
       "            }\n",
       "        </style>\n",
       "      <progress value='1' class='' max='1' style='width:300px; height:20px; vertical-align: middle;'></progress>\n",
       "      100.00% [1/1 00:00<00:00]\n",
       "    </div>\n",
       "    "
      ],
      "text/plain": [
       "<IPython.core.display.HTML object>"
      ]
     },
     "metadata": {},
     "output_type": "display_data"
    },
    {
     "name": "stderr",
     "output_type": "stream",
     "text": [
      "100%|██████████████████████████████████████████████████████████████████████████████████| 20/20 [01:10<00:00,  3.52s/it]\n"
     ]
    }
   ],
   "source": [
    "# simulation\n",
    "n_step = 5000\n",
    "n_iter = 100\n",
    "selected_arms_logisticTS = np.zeros((n_iter, n_step), dtype=int)\n",
    "earned_rewards_logisticTS = np.zeros((n_iter, n_step), dtype=int)\n",
    "agent = MCMC_GLMTSAgent()\n",
    "for step in tqdm(range(n_step)):\n",
    "    arm_index = agent.get_arm()\n",
    "    for it in range(n_iter):\n",
    "        reward = Env.react(arms[arm_index])\n",
    "        agent.sample(arm_index, reward)\n",
    "        selected_arms_logisticTS[it, step] = arm_index\n",
    "        earned_rewards_logisticTS[it, step] = reward"
   ]
  },
  {
   "cell_type": "code",
   "execution_count": 73,
   "id": "crucial-elephant",
   "metadata": {},
   "outputs": [],
   "source": [
    "from collections import Counter"
   ]
  },
  {
   "cell_type": "code",
   "execution_count": 74,
   "id": "determined-clark",
   "metadata": {},
   "outputs": [
    {
     "data": {
      "image/png": "[encoded data removed]",
      "text/plain": [
       "<Figure size 432x288 with 2 Axes>"
      ]
     },
     "metadata": {
      "needs_background": "light"
     },
     "output_type": "display_data"
    }
   ],
   "source": [
    "arm_count = [row[1] for row in sorted(Counter(selected_arms_logisticTS[0,:]).items())]\n",
    "plt.subplot(1,2,1)\n",
    "plt.bar(range(4), [Env.p(arm) for arm in arms], tick_label=range(4))\n",
    "plt.xlabel('Arm')\n",
    "plt.ylabel(r'$\\theta$')\n",
    "plt.title('Actual Probability')\n",
    "plt.subplot(1,2,2)\n",
    "plt.bar(range(4), arm_count, tick_label=range(4))\n",
    "plt.xlabel('Arm')\n",
    "plt.ylabel('Ferquency')\n",
    "plt.title('Simulation Results')\n",
    "plt.tight_layout(pad=3)\n",
    "plt.savefig(path_fig + \"result_logistic_TS.png\")\n",
    "plt.show()"
   ]
  },
  {
   "cell_type": "code",
   "execution_count": 75,
   "id": "sapphire-variety",
   "metadata": {},
   "outputs": [
    {
     "data": {
      "image/png": "[encoded data removed]",
      "text/plain": [
       "<Figure size 432x288 with 1 Axes>"
      ]
     },
     "metadata": {
      "needs_background": "light"
     },
     "output_type": "display_data"
    }
   ],
   "source": [
    "plt.plot(np.mean(selected_arms_linucb==Env.opt(), axis=0), label='LinUCB')\n",
    "plt.plot(np.mean(selected_arms_logisticTS==Env.opt(), axis=0), label='LogisticTS')\n",
    "plt.xlabel(r'$t$')\n",
    "plt.ylabel(r'$\\mathbb{E}{x(t) = x^*}$')\n",
    "plt.legend()\n",
    "plt.savefig(path_fig  + \"compare_logisticTS_vs_linucb.png\", bbox_inches=\"tight\")\n",
    "plt.show()"
   ]
  },
  {
   "cell_type": "code",
   "execution_count": null,
   "id": "wicked-blogger",
   "metadata": {},
   "outputs": [],
   "source": []
  },
  {
   "cell_type": "code",
   "execution_count": null,
   "id": "urban-relaxation",
   "metadata": {},
   "outputs": [],
   "source": []
  },
  {
   "cell_type": "code",
   "execution_count": null,
   "id": "narrow-advocacy",
   "metadata": {},
   "outputs": [],
   "source": []
  },
  {
   "cell_type": "code",
   "execution_count": null,
   "id": "coastal-abortion",
   "metadata": {},
   "outputs": [],
   "source": []
  },
  {
   "cell_type": "code",
   "execution_count": null,
   "id": "reverse-particle",
   "metadata": {},
   "outputs": [],
   "source": []
  },
  {
   "cell_type": "code",
   "execution_count": null,
   "id": "natural-bones",
   "metadata": {},
   "outputs": [],
   "source": []
  },
  {
   "cell_type": "markdown",
   "id": "provincial-catch",
   "metadata": {},
   "source": [
    "## 悲しくも没になったもの"
   ]
  },
  {
   "cell_type": "markdown",
   "id": "miniature-motel",
   "metadata": {},
   "source": [
    "### Logistic Thompson Sampling"
   ]
  },
  {
   "cell_type": "code",
   "execution_count": 94,
   "id": "dynamic-insured",
   "metadata": {},
   "outputs": [],
   "source": [
    "# LogisticTSアルゴリズムのクラス\n",
    "class LogisticTSAgent:\n",
    "    \"\"\"\n",
    "    Args :\n",
    "        num_theta_max_iter : theta の探索を行う反復回数の上限\n",
    "        epsilon : theta の探索を行う際の収束許容誤差\n",
    "        interval_update_theta : thetaの更新を行う間隔. この回数だけ反復したら theta, hessian を更新する\n",
    "    \"\"\"\n",
    "    def __init__(self, sigma_0=0.1, num_theta_max_iter=1000, epsilon=0.01, interval_update_theta=10):\n",
    "        self.sigma_0 = sigma_0\n",
    "        self.num_theta_max_iter = num_theta_max_iter\n",
    "        self.epsilon = epsilon\n",
    "        self.interval_update_theta = interval_update_theta\n",
    "    \n",
    "    def initialize(self, n_arms, n_features, sigma):\n",
    "        \"\"\"環境の初期化関数\n",
    "        \n",
    "        Args:\n",
    "            n_arms     : 引ける腕の数\n",
    "            n_features : 文脈の次元数\n",
    "            sigma      : 誤差項の分散\n",
    "            \n",
    "        Attributes:\n",
    "            iter_num : 現在の反復回数\n",
    "            lst_context_history(list[np.array]) : 引いた腕のcontextリスト\n",
    "            lst_reward_history(list[int]) : 引いた腕の報酬リスト. 0 or 1\n",
    "            H_inv(np.array) : 乱数生成に必要なヘシアンの逆行列\n",
    "        \"\"\"\n",
    "        self.n_arms = n_arms\n",
    "        self.n_features = n_features\n",
    "        self.sigma  = sigma\n",
    "        self.theta  = np.zeros(n_features)\n",
    "        \n",
    "        self.iter_num = 0\n",
    "        self.lst_context_history = []\n",
    "        self.lst_reward_history = []\n",
    "        self.H_inv = self.calc_hessian_inv(self.theta)\n",
    "        return\n",
    "        \n",
    "    def calc_gradient(self, theta):\n",
    "        \"\"\"負の対数事後確率の勾配 G の計算\"\"\"\n",
    "        # 初期値\n",
    "        ret = []\n",
    "        ret.append(theta / self.sigma_0)\n",
    "        \n",
    "        # 以下、引いた腕によって変わる\n",
    "        for context in self.lst_context_history:\n",
    "            exp_theta_T_context = np.exp(theta.dot(context))\n",
    "            ret.append((exp_theta_T_context*context)/(1 + exp_theta_T_context))\n",
    "            \n",
    "        for idx, reward in enumerate(self.lst_reward_history):\n",
    "            if reward == 1:\n",
    "                ret.append(self.lst_context_history[idx] * -1)\n",
    "                \n",
    "        return np.array(ret).sum(axis=0)\n",
    "    \n",
    "    def calc_hessian_inv(self, theta):\n",
    "        \"\"\"負の対数事後確率のヘシアン H の逆行列の計算\"\"\"\n",
    "        ret = []\n",
    "        ret.append(np.identity(self.n_features)/self.sigma_0)\n",
    "\n",
    "        for context in self.lst_context_history:\n",
    "            exp_theta_T_context = np.exp(theta.dot(context))\n",
    "            ret.append((exp_theta_T_context*(np.matrix(context).T)*context)/(1+exp_theta_T_context)**2)\n",
    "\n",
    "        return np.linalg.inv(np.array(ret).sum(axis=0))\n",
    "        \n",
    "    def set_theta(self, theta):\n",
    "        \"\"\"theta の係数格納\"\"\"\n",
    "        self.theta = theta\n",
    "        return\n",
    "        \n",
    "    def get_theta_by_normalDistribution(self):\n",
    "        \"\"\"多変量正規分布からパラメータを取得\"\"\"\n",
    "        theta_tild = np.random.multivariate_normal(\n",
    "            self.theta,\n",
    "            self.H_inv\n",
    "        )\n",
    "        return theta_tild\n",
    "    \n",
    "    def get_arm(self, context):\n",
    "        \"\"\"腕を選択\"\"\"\n",
    "        np_context = np.array(context)\n",
    "        theta_tild = self.get_theta_by_normalDistribution()\n",
    "        \n",
    "        score = np_context.dot(theta_tild)\n",
    "        return np.argmax(score)\n",
    "        \n",
    "    def add_reward(self, reward):\n",
    "        \"\"\"得られた報酬のリストに追加\"\"\"\n",
    "        self.lst_reward_history.append(reward)\n",
    "        return\n",
    "        \n",
    "    def add_context(self, context):\n",
    "        \"\"\"選択した腕のcontextをリストに追加\"\"\"\n",
    "        self.lst_context_history.append(np.array(context))\n",
    "        return\n",
    "    \n",
    "    def update_theta(self):\n",
    "        \"\"\"観測した報酬からtheta更新\"\"\"\n",
    "        # 設定した更新間隔に達していなければ、更新しない\n",
    "        if self.iter_num % self.interval_update_theta != 0:\n",
    "            return\n",
    "        \n",
    "        # thetaが収束するか規定回数を反復するまで計算する\n",
    "        theta_hat = self.theta\n",
    "        for i in range(self.num_theta_max_iter):\n",
    "            theta_before = theta_hat\n",
    "            G = self.calc_gradient(theta_hat)\n",
    "            H_inv = self.calc_hessian_inv(theta_hat)\n",
    "            \n",
    "            theta_hat = theta_hat - H_inv.dot(G)\n",
    "            \n",
    "            # 収束したら終了\n",
    "            ## 収束しなかったらthetaを更新して再計算\n",
    "            if np.linalg.norm(theta_hat - theta_before) < self.epsilon:\n",
    "                break\n",
    "        # 規定回数までに収束しなかったら表示\n",
    "        if i == self.num_theta_max_iter-1:\n",
    "            print(\"max iter over\")\n",
    "            \n",
    "        # 収束したら更新\n",
    "        self.set_theta(theta_hat)\n",
    "        return \n",
    "    \n",
    "    def sample(self, context, reward):\n",
    "        \"\"\"選択した腕の文脈とその報酬を得て、更新を行う\"\"\"\n",
    "        self.iter_num += 1\n",
    "        self.add_reward(reward)\n",
    "        self.add_context(context)\n",
    "        self.update_theta()"
   ]
  },
  {
   "cell_type": "code",
   "execution_count": 95,
   "id": "tested-netscape",
   "metadata": {},
   "outputs": [],
   "source": [
    "agent = LogisticTSAgent()\n",
    "features = np.array([[arm[0], arm[1], 1] for arm in arms])\n",
    "agent.initialize(n_arms=len(arms), n_features=len(features[0]), sigma=1)\n",
    "s_arm = []\n",
    "e_reward = []"
   ]
  },
  {
   "cell_type": "code",
   "execution_count": 96,
   "id": "infinite-persian",
   "metadata": {},
   "outputs": [
    {
     "name": "stderr",
     "output_type": "stream",
     "text": [
      "100%|██████████████████████████████████████████████████████████████████████████████| 5000/5000 [03:33<00:00, 23.43it/s]\n"
     ]
    }
   ],
   "source": [
    "for step in tqdm(range(n_step)):\n",
    "    arm_index = agent.get_arm(features)\n",
    "    reward = Env.react(arms[arm_index])\n",
    "    agent.sample(features[arm_index], reward)\n",
    "    s_arm.append(arm_index)\n",
    "    e_reward.append(reward)"
   ]
  },
  {
   "cell_type": "code",
   "execution_count": 62,
   "id": "juvenile-tourist",
   "metadata": {},
   "outputs": [
    {
     "name": "stderr",
     "output_type": "stream",
     "text": [
      "100%|██████████████████████████████████████████████████████████████████████████████| 500/500 [6:11:41<00:00, 44.60s/it]\n"
     ]
    }
   ],
   "source": [
    "n_iter = 500\n",
    "n_step = 5000\n",
    "selected_arms_logisticTS = np.zeros((n_iter, n_step), dtype=int)\n",
    "earned_rewards_logisticTS = np.zeros((n_iter, n_step), dtype=int)\n",
    "for it in tqdm(range(n_iter)):\n",
    "    agent = LogisticTSAgent()\n",
    "    agent.initialize(n_arms=len(arms), n_features=len(arms[0]), sigma=1)\n",
    "    for step in range(n_step):\n",
    "        arm_index = agent.get_arm(arms)\n",
    "        reward = Env.react(arms[arm_index])\n",
    "        agent.sample(arms[arm_index], reward)\n",
    "        selected_arms_logisticTS[it, step] = arm_index\n",
    "        earned_rewards_logisticTS[it, step] = reward"
   ]
  },
  {
   "cell_type": "code",
   "execution_count": 63,
   "id": "naval-adventure",
   "metadata": {},
   "outputs": [
    {
     "data": {
      "image/png": "[encoded data removed]",
      "text/plain": [
       "<Figure size 432x288 with 1 Axes>"
      ]
     },
     "metadata": {
      "needs_background": "light"
     },
     "output_type": "display_data"
    }
   ],
   "source": [
    "plt.plot(np.mean(selected_arms_logisticTS==Env.opt(), axis=0), label=r'Logistic Thompson Sampling')\n",
    "plt.plot(np.mean(selected_arms_linucb==Env.opt(), axis=0), label=r'LinUCB')\n",
    "plt.xlabel(r'$t$')\n",
    "plt.ylabel(r'$\\mathbb{E}{x(t) = x^*}$')\n",
    "plt.legend()\n",
    "plt.savefig(\"result_logistic_TS.png\", bbox_inches=\"tight\")\n",
    "plt.show()"
   ]
  },
  {
   "cell_type": "code",
   "execution_count": null,
   "id": "ceramic-briefing",
   "metadata": {},
   "outputs": [],
   "source": []
  }
 ],
 "metadata": {
  "kernelspec": {
   "display_name": "Python 3",
   "language": "python",
   "name": "python3"
  },
  "language_info": {
   "codemirror_mode": {
    "name": "ipython",
    "version": 3
   },
   "file_extension": ".py",
   "mimetype": "text/x-python",
   "name": "python",
   "nbconvert_exporter": "python",
   "pygments_lexer": "ipython3",
   "version": "3.6.9"
  }
 },
 "nbformat": 4,
 "nbformat_minor": 5
}
